{
 "cells": [
  {
   "cell_type": "markdown",
   "metadata": {},
   "source": [
    "# Nb-20180315-1433-RandomForest-GainPrediction-Ideas"
   ]
  },
  {
   "cell_type": "markdown",
   "metadata": {},
   "source": [
    "Given what was learned in previous notebooks, try something like this to predict gains:\n",
    "- Make aggregate data set with data from related stocks, such as IBM, FB, GOOG, AAPL, etc.\n",
    "    * Training set: all data up to 2016\n",
    "    * Validation set: 2017\n",
    "    * Test set: 2018"
   ]
  },
  {
   "cell_type": "markdown",
   "metadata": {},
   "source": [
    "Using test set, see how much overall gains would be if invested in those stocks on that day at open, \n",
    "sold later that day before close for cases where gain is high confidence."
   ]
  },
  {
   "cell_type": "markdown",
   "metadata": {},
   "source": [
    "Try prediciting \"Big gains\", say > 1%, by creating a \"balanced\" training set that would be:\n",
    "- 50% days where next day is a big gain\n",
    "- 50% randomly selected days where there is NOT a big gain the next day\n",
    "\n",
    "See if model can distinguish between them. This might eliminate some training issues caused by the fact that big-gain days \n",
    "are relatively rare compared to non-big-gain days, so model might train to be more likely to predict no-big-gain days because it \n",
    "gives better results overall based on low numbers of big-gain days."
   ]
  },
  {
   "cell_type": "code",
   "execution_count": null,
   "metadata": {},
   "outputs": [],
   "source": []
  }
 ],
 "metadata": {
  "kernelspec": {
   "display_name": "Python 3",
   "language": "python",
   "name": "python3"
  },
  "language_info": {
   "codemirror_mode": {
    "name": "ipython",
    "version": 3
   },
   "file_extension": ".py",
   "mimetype": "text/x-python",
   "name": "python",
   "nbconvert_exporter": "python",
   "pygments_lexer": "ipython3",
   "version": "3.6.4"
  },
  "toc": {
   "colors": {
    "hover_highlight": "#DAA520",
    "navigate_num": "#000000",
    "navigate_text": "#333333",
    "running_highlight": "#FF0000",
    "selected_highlight": "#FFD700",
    "sidebar_border": "#EEEEEE",
    "wrapper_background": "#FFFFFF"
   },
   "moveMenuLeft": true,
   "nav_menu": {
    "height": "512px",
    "width": "252px"
   },
   "navigate_menu": true,
   "number_sections": true,
   "sideBar": true,
   "threshold": 4,
   "toc_cell": false,
   "toc_section_display": "block",
   "toc_window_display": false,
   "widenNotebook": false
  }
 },
 "nbformat": 4,
 "nbformat_minor": 2
}
