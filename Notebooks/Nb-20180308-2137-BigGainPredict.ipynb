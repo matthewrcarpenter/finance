{
 "cells": [
  {
   "cell_type": "markdown",
   "metadata": {},
   "source": [
    "# Nb-20180308-2137-BigGainPredict"
   ]
  },
  {
   "cell_type": "markdown",
   "metadata": {},
   "source": [
    "This is continuation of previous BigGainPredict after implementing Bollinger Bands..."
   ]
  },
  {
   "cell_type": "markdown",
   "metadata": {},
   "source": [
    "So,  get list of mega, large, and mid-cap companies on NYSE for looking for 1% price gain prediction using machine learning.\n",
    "\n",
    "- https://www.nasdaq.com/screening/companies-by-industry.aspx?exchange=NYSE&marketcap=Mega-cap\n",
    "- https://www.nasdaq.com/screening/companies-by-industry.aspx?exchange=NYSE&marketcap=Large-cap\n",
    "- https://www.nasdaq.com/screening/companies-by-industry.aspx?exchange=NYSE&marketcap=Mid-cap"
   ]
  },
  {
   "cell_type": "code",
   "execution_count": 1,
   "metadata": {},
   "outputs": [],
   "source": [
    "# Put these at the top of every notebook, to get automatic reloading and inline plotting\n",
    "%reload_ext autoreload\n",
    "%autoreload 2\n",
    "%matplotlib inline"
   ]
  },
  {
   "cell_type": "code",
   "execution_count": 2,
   "metadata": {},
   "outputs": [],
   "source": [
    "import datetime as dt\n",
    "import numpy as np\n",
    "import pandas as pd\n",
    "import matplotlib.colors as colors\n",
    "import matplotlib.dates as mdates\n",
    "import matplotlib.ticker as mticker\n",
    "import matplotlib.mlab as mlab\n",
    "import matplotlib.pyplot as plt\n",
    "import matplotlib.font_manager as font_manager"
   ]
  },
  {
   "cell_type": "code",
   "execution_count": 3,
   "metadata": {},
   "outputs": [],
   "source": [
    "import finance as fat"
   ]
  },
  {
   "cell_type": "code",
   "execution_count": 4,
   "metadata": {},
   "outputs": [],
   "source": [
    "# Change the plot size.\n",
    "plt.rcParams['figure.figsize'] = [18.0, 10.0]"
   ]
  },
  {
   "cell_type": "markdown",
   "metadata": {},
   "source": [
    "### Load Company Data"
   ]
  },
  {
   "cell_type": "code",
   "execution_count": 17,
   "metadata": {},
   "outputs": [],
   "source": [
    "c = pd.read_csv('data/NYSE-Companies-Mega-Large-Mid-Cap.csv')"
   ]
  },
  {
   "cell_type": "code",
   "execution_count": 18,
   "metadata": {},
   "outputs": [
    {
     "data": {
      "text/html": [
       "<div>\n",
       "<style scoped>\n",
       "    .dataframe tbody tr th:only-of-type {\n",
       "        vertical-align: middle;\n",
       "    }\n",
       "\n",
       "    .dataframe tbody tr th {\n",
       "        vertical-align: top;\n",
       "    }\n",
       "\n",
       "    .dataframe thead th {\n",
       "        text-align: right;\n",
       "    }\n",
       "</style>\n",
       "<table border=\"1\" class=\"dataframe\">\n",
       "  <thead>\n",
       "    <tr style=\"text-align: right;\">\n",
       "      <th></th>\n",
       "      <th>Symbol</th>\n",
       "      <th>Name</th>\n",
       "      <th>LastSale</th>\n",
       "      <th>MarketCap</th>\n",
       "      <th>ADR TSO</th>\n",
       "      <th>IPOyear</th>\n",
       "      <th>Sector</th>\n",
       "      <th>Industry</th>\n",
       "      <th>Summary Quote</th>\n",
       "      <th>Unnamed: 9</th>\n",
       "    </tr>\n",
       "  </thead>\n",
       "  <tbody>\n",
       "    <tr>\n",
       "      <th>0</th>\n",
       "      <td>BABA</td>\n",
       "      <td>Alibaba Group Holding Limited</td>\n",
       "      <td>187.18</td>\n",
       "      <td>4.802729e+11</td>\n",
       "      <td>NaN</td>\n",
       "      <td>2014.0</td>\n",
       "      <td>Miscellaneous</td>\n",
       "      <td>Business Services</td>\n",
       "      <td>https://www.nasdaq.com/symbol/baba</td>\n",
       "      <td>NaN</td>\n",
       "    </tr>\n",
       "    <tr>\n",
       "      <th>1</th>\n",
       "      <td>T</td>\n",
       "      <td>AT&amp;T Inc.</td>\n",
       "      <td>37.11</td>\n",
       "      <td>2.279123e+11</td>\n",
       "      <td>NaN</td>\n",
       "      <td>NaN</td>\n",
       "      <td>Public Utilities</td>\n",
       "      <td>Telecommunications Equipment</td>\n",
       "      <td>https://www.nasdaq.com/symbol/t</td>\n",
       "      <td>NaN</td>\n",
       "    </tr>\n",
       "    <tr>\n",
       "      <th>2</th>\n",
       "      <td>BAC</td>\n",
       "      <td>Bank of America Corporation</td>\n",
       "      <td>32.20</td>\n",
       "      <td>3.298468e+11</td>\n",
       "      <td>NaN</td>\n",
       "      <td>NaN</td>\n",
       "      <td>Finance</td>\n",
       "      <td>Major Banks</td>\n",
       "      <td>https://www.nasdaq.com/symbol/bac</td>\n",
       "      <td>NaN</td>\n",
       "    </tr>\n",
       "    <tr>\n",
       "      <th>3</th>\n",
       "      <td>BA</td>\n",
       "      <td>Boeing Company (The)</td>\n",
       "      <td>348.73</td>\n",
       "      <td>2.052242e+11</td>\n",
       "      <td>NaN</td>\n",
       "      <td>NaN</td>\n",
       "      <td>Capital Goods</td>\n",
       "      <td>Aerospace</td>\n",
       "      <td>https://www.nasdaq.com/symbol/ba</td>\n",
       "      <td>NaN</td>\n",
       "    </tr>\n",
       "    <tr>\n",
       "      <th>4</th>\n",
       "      <td>CVX</td>\n",
       "      <td>Chevron Corporation</td>\n",
       "      <td>113.35</td>\n",
       "      <td>2.165272e+11</td>\n",
       "      <td>NaN</td>\n",
       "      <td>NaN</td>\n",
       "      <td>Energy</td>\n",
       "      <td>Integrated oil Companies</td>\n",
       "      <td>https://www.nasdaq.com/symbol/cvx</td>\n",
       "      <td>NaN</td>\n",
       "    </tr>\n",
       "  </tbody>\n",
       "</table>\n",
       "</div>"
      ],
      "text/plain": [
       "  Symbol                           Name  LastSale     MarketCap  ADR TSO  \\\n",
       "0   BABA  Alibaba Group Holding Limited    187.18  4.802729e+11      NaN   \n",
       "1      T                      AT&T Inc.     37.11  2.279123e+11      NaN   \n",
       "2    BAC    Bank of America Corporation     32.20  3.298468e+11      NaN   \n",
       "3     BA           Boeing Company (The)    348.73  2.052242e+11      NaN   \n",
       "4    CVX            Chevron Corporation    113.35  2.165272e+11      NaN   \n",
       "\n",
       "   IPOyear            Sector                      Industry  \\\n",
       "0   2014.0     Miscellaneous             Business Services   \n",
       "1      NaN  Public Utilities  Telecommunications Equipment   \n",
       "2      NaN           Finance                   Major Banks   \n",
       "3      NaN     Capital Goods                     Aerospace   \n",
       "4      NaN            Energy      Integrated oil Companies   \n",
       "\n",
       "                        Summary Quote  Unnamed: 9  \n",
       "0  https://www.nasdaq.com/symbol/baba         NaN  \n",
       "1     https://www.nasdaq.com/symbol/t         NaN  \n",
       "2   https://www.nasdaq.com/symbol/bac         NaN  \n",
       "3    https://www.nasdaq.com/symbol/ba         NaN  \n",
       "4   https://www.nasdaq.com/symbol/cvx         NaN  "
      ]
     },
     "execution_count": 18,
     "metadata": {},
     "output_type": "execute_result"
    }
   ],
   "source": [
    "c.head()"
   ]
  },
  {
   "cell_type": "code",
   "execution_count": 19,
   "metadata": {},
   "outputs": [],
   "source": [
    "c = c.sort_values('MarketCap',ascending=False)"
   ]
  },
  {
   "cell_type": "code",
   "execution_count": 20,
   "metadata": {},
   "outputs": [
    {
     "data": {
      "text/html": [
       "<div>\n",
       "<style scoped>\n",
       "    .dataframe tbody tr th:only-of-type {\n",
       "        vertical-align: middle;\n",
       "    }\n",
       "\n",
       "    .dataframe tbody tr th {\n",
       "        vertical-align: top;\n",
       "    }\n",
       "\n",
       "    .dataframe thead th {\n",
       "        text-align: right;\n",
       "    }\n",
       "</style>\n",
       "<table border=\"1\" class=\"dataframe\">\n",
       "  <thead>\n",
       "    <tr style=\"text-align: right;\">\n",
       "      <th></th>\n",
       "      <th>Symbol</th>\n",
       "      <th>Name</th>\n",
       "      <th>LastSale</th>\n",
       "      <th>MarketCap</th>\n",
       "      <th>ADR TSO</th>\n",
       "      <th>IPOyear</th>\n",
       "      <th>Sector</th>\n",
       "      <th>Industry</th>\n",
       "      <th>Summary Quote</th>\n",
       "      <th>Unnamed: 9</th>\n",
       "    </tr>\n",
       "  </thead>\n",
       "  <tbody>\n",
       "    <tr>\n",
       "      <th>0</th>\n",
       "      <td>BABA</td>\n",
       "      <td>Alibaba Group Holding Limited</td>\n",
       "      <td>187.18</td>\n",
       "      <td>4.802729e+11</td>\n",
       "      <td>NaN</td>\n",
       "      <td>2014.0</td>\n",
       "      <td>Miscellaneous</td>\n",
       "      <td>Business Services</td>\n",
       "      <td>https://www.nasdaq.com/symbol/baba</td>\n",
       "      <td>NaN</td>\n",
       "    </tr>\n",
       "    <tr>\n",
       "      <th>7</th>\n",
       "      <td>JPM</td>\n",
       "      <td>J P Morgan Chase &amp; Co</td>\n",
       "      <td>114.74</td>\n",
       "      <td>3.937829e+11</td>\n",
       "      <td>NaN</td>\n",
       "      <td>NaN</td>\n",
       "      <td>Finance</td>\n",
       "      <td>Major Banks</td>\n",
       "      <td>https://www.nasdaq.com/symbol/jpm</td>\n",
       "      <td>NaN</td>\n",
       "    </tr>\n",
       "    <tr>\n",
       "      <th>8</th>\n",
       "      <td>JNJ</td>\n",
       "      <td>Johnson &amp; Johnson</td>\n",
       "      <td>132.06</td>\n",
       "      <td>3.543040e+11</td>\n",
       "      <td>NaN</td>\n",
       "      <td>NaN</td>\n",
       "      <td>Health Care</td>\n",
       "      <td>Major Pharmaceuticals</td>\n",
       "      <td>https://www.nasdaq.com/symbol/jnj</td>\n",
       "      <td>NaN</td>\n",
       "    </tr>\n",
       "    <tr>\n",
       "      <th>2</th>\n",
       "      <td>BAC</td>\n",
       "      <td>Bank of America Corporation</td>\n",
       "      <td>32.20</td>\n",
       "      <td>3.298468e+11</td>\n",
       "      <td>NaN</td>\n",
       "      <td>NaN</td>\n",
       "      <td>Finance</td>\n",
       "      <td>Major Banks</td>\n",
       "      <td>https://www.nasdaq.com/symbol/bac</td>\n",
       "      <td>NaN</td>\n",
       "    </tr>\n",
       "    <tr>\n",
       "      <th>5</th>\n",
       "      <td>XOM</td>\n",
       "      <td>Exxon Mobil Corporation</td>\n",
       "      <td>74.12</td>\n",
       "      <td>3.140807e+11</td>\n",
       "      <td>NaN</td>\n",
       "      <td>NaN</td>\n",
       "      <td>Energy</td>\n",
       "      <td>Integrated oil Companies</td>\n",
       "      <td>https://www.nasdaq.com/symbol/xom</td>\n",
       "      <td>NaN</td>\n",
       "    </tr>\n",
       "  </tbody>\n",
       "</table>\n",
       "</div>"
      ],
      "text/plain": [
       "  Symbol                           Name  LastSale     MarketCap  ADR TSO  \\\n",
       "0   BABA  Alibaba Group Holding Limited    187.18  4.802729e+11      NaN   \n",
       "7    JPM          J P Morgan Chase & Co    114.74  3.937829e+11      NaN   \n",
       "8    JNJ              Johnson & Johnson    132.06  3.543040e+11      NaN   \n",
       "2    BAC    Bank of America Corporation     32.20  3.298468e+11      NaN   \n",
       "5    XOM        Exxon Mobil Corporation     74.12  3.140807e+11      NaN   \n",
       "\n",
       "   IPOyear         Sector                  Industry  \\\n",
       "0   2014.0  Miscellaneous         Business Services   \n",
       "7      NaN        Finance               Major Banks   \n",
       "8      NaN    Health Care     Major Pharmaceuticals   \n",
       "2      NaN        Finance               Major Banks   \n",
       "5      NaN         Energy  Integrated oil Companies   \n",
       "\n",
       "                        Summary Quote  Unnamed: 9  \n",
       "0  https://www.nasdaq.com/symbol/baba         NaN  \n",
       "7   https://www.nasdaq.com/symbol/jpm         NaN  \n",
       "8   https://www.nasdaq.com/symbol/jnj         NaN  \n",
       "2   https://www.nasdaq.com/symbol/bac         NaN  \n",
       "5   https://www.nasdaq.com/symbol/xom         NaN  "
      ]
     },
     "execution_count": 20,
     "metadata": {},
     "output_type": "execute_result"
    }
   ],
   "source": [
    "c.head()"
   ]
  },
  {
   "cell_type": "markdown",
   "metadata": {},
   "source": [
    "### Create features"
   ]
  },
  {
   "cell_type": "markdown",
   "metadata": {},
   "source": [
    "These are some ideas from a paper: _A Feature Fusion Based Forecasting Model for Financial Time Series_ by\n",
    "Zhiqiang Guo , Huaiqing Wang, Quan Liu, Jie Yang\n",
    "- http://journals.plos.org/plosone/article?id=10.1371/journal.pone.0101113"
   ]
  },
  {
   "attachments": {
    "PredictionParameters.png": {
     "image/png": "[encoded data removed]"
    }
   },
   "cell_type": "markdown",
   "metadata": {},
   "source": [
    "![PredictionParameters.png](attachment:PredictionParameters.png)"
   ]
  },
  {
   "cell_type": "markdown",
   "metadata": {},
   "source": [
    "We'll start of with a sub-set of these:"
   ]
  },
  {
   "cell_type": "markdown",
   "metadata": {},
   "source": [
    "### Create scalable features"
   ]
  },
  {
   "cell_type": "markdown",
   "metadata": {},
   "source": [
    "First, create features that can be linearly scaled (within a row)."
   ]
  },
  {
   "cell_type": "markdown",
   "metadata": {},
   "source": [
    "**Hypothesis**: having all price data scaled between 0.0-1.0 on a per row basis will improve ease of training and accuracy of predicitions."
   ]
  },
  {
   "cell_type": "code",
   "execution_count": 71,
   "metadata": {},
   "outputs": [],
   "source": [
    "ticker = c.iloc[1]['Symbol']"
   ]
  },
  {
   "cell_type": "code",
   "execution_count": 86,
   "metadata": {},
   "outputs": [
    {
     "name": "stdout",
     "output_type": "stream",
     "text": [
      "Loaded data for JPM: 1980-03-17 to 2018-03-07.\n"
     ]
    }
   ],
   "source": [
    "data = fat.get_price_data(ticker)"
   ]
  },
  {
   "cell_type": "code",
   "execution_count": 87,
   "metadata": {},
   "outputs": [
    {
     "data": {
      "text/html": [
       "<div>\n",
       "<style scoped>\n",
       "    .dataframe tbody tr th:only-of-type {\n",
       "        vertical-align: middle;\n",
       "    }\n",
       "\n",
       "    .dataframe tbody tr th {\n",
       "        vertical-align: top;\n",
       "    }\n",
       "\n",
       "    .dataframe thead th {\n",
       "        text-align: right;\n",
       "    }\n",
       "</style>\n",
       "<table border=\"1\" class=\"dataframe\">\n",
       "  <thead>\n",
       "    <tr style=\"text-align: right;\">\n",
       "      <th></th>\n",
       "      <th>Adj Close</th>\n",
       "    </tr>\n",
       "    <tr>\n",
       "      <th>Date</th>\n",
       "      <th></th>\n",
       "    </tr>\n",
       "  </thead>\n",
       "  <tbody>\n",
       "    <tr>\n",
       "      <th>1980-03-17</th>\n",
       "      <td>1.284682</td>\n",
       "    </tr>\n",
       "    <tr>\n",
       "      <th>1980-03-18</th>\n",
       "      <td>1.294128</td>\n",
       "    </tr>\n",
       "    <tr>\n",
       "      <th>1980-03-19</th>\n",
       "      <td>1.313020</td>\n",
       "    </tr>\n",
       "    <tr>\n",
       "      <th>1980-03-20</th>\n",
       "      <td>1.303574</td>\n",
       "    </tr>\n",
       "    <tr>\n",
       "      <th>1980-03-21</th>\n",
       "      <td>1.331913</td>\n",
       "    </tr>\n",
       "  </tbody>\n",
       "</table>\n",
       "</div>"
      ],
      "text/plain": [
       "            Adj Close\n",
       "Date                 \n",
       "1980-03-17   1.284682\n",
       "1980-03-18   1.294128\n",
       "1980-03-19   1.313020\n",
       "1980-03-20   1.303574\n",
       "1980-03-21   1.331913"
      ]
     },
     "execution_count": 87,
     "metadata": {},
     "output_type": "execute_result"
    }
   ],
   "source": [
    "# Just use 'Adj Close'\n",
    "data = pd.DataFrame(data, columns=['Adj Close'])\n",
    "data.head()"
   ]
  },
  {
   "cell_type": "code",
   "execution_count": 88,
   "metadata": {},
   "outputs": [
    {
     "data": {
      "text/html": [
       "<div>\n",
       "<style scoped>\n",
       "    .dataframe tbody tr th:only-of-type {\n",
       "        vertical-align: middle;\n",
       "    }\n",
       "\n",
       "    .dataframe tbody tr th {\n",
       "        vertical-align: top;\n",
       "    }\n",
       "\n",
       "    .dataframe thead th {\n",
       "        text-align: right;\n",
       "    }\n",
       "</style>\n",
       "<table border=\"1\" class=\"dataframe\">\n",
       "  <thead>\n",
       "    <tr style=\"text-align: right;\">\n",
       "      <th></th>\n",
       "      <th>Adj Close</th>\n",
       "      <th>Gain</th>\n",
       "    </tr>\n",
       "    <tr>\n",
       "      <th>Date</th>\n",
       "      <th></th>\n",
       "      <th></th>\n",
       "    </tr>\n",
       "  </thead>\n",
       "  <tbody>\n",
       "    <tr>\n",
       "      <th>1980-03-17</th>\n",
       "      <td>1.284682</td>\n",
       "      <td>NaN</td>\n",
       "    </tr>\n",
       "    <tr>\n",
       "      <th>1980-03-18</th>\n",
       "      <td>1.294128</td>\n",
       "      <td>0.009446</td>\n",
       "    </tr>\n",
       "    <tr>\n",
       "      <th>1980-03-19</th>\n",
       "      <td>1.313020</td>\n",
       "      <td>0.018892</td>\n",
       "    </tr>\n",
       "    <tr>\n",
       "      <th>1980-03-20</th>\n",
       "      <td>1.303574</td>\n",
       "      <td>-0.009446</td>\n",
       "    </tr>\n",
       "    <tr>\n",
       "      <th>1980-03-21</th>\n",
       "      <td>1.331913</td>\n",
       "      <td>0.028339</td>\n",
       "    </tr>\n",
       "  </tbody>\n",
       "</table>\n",
       "</div>"
      ],
      "text/plain": [
       "            Adj Close      Gain\n",
       "Date                           \n",
       "1980-03-17   1.284682       NaN\n",
       "1980-03-18   1.294128  0.009446\n",
       "1980-03-19   1.313020  0.018892\n",
       "1980-03-20   1.303574 -0.009446\n",
       "1980-03-21   1.331913  0.028339"
      ]
     },
     "execution_count": 88,
     "metadata": {},
     "output_type": "execute_result"
    }
   ],
   "source": [
    "# Gain\n",
    "data['Gain'] = data['Adj Close'].diff()\n",
    "data.head()"
   ]
  },
  {
   "cell_type": "code",
   "execution_count": 89,
   "metadata": {},
   "outputs": [
    {
     "data": {
      "text/html": [
       "<div>\n",
       "<style scoped>\n",
       "    .dataframe tbody tr th:only-of-type {\n",
       "        vertical-align: middle;\n",
       "    }\n",
       "\n",
       "    .dataframe tbody tr th {\n",
       "        vertical-align: top;\n",
       "    }\n",
       "\n",
       "    .dataframe thead th {\n",
       "        text-align: right;\n",
       "    }\n",
       "</style>\n",
       "<table border=\"1\" class=\"dataframe\">\n",
       "  <thead>\n",
       "    <tr style=\"text-align: right;\">\n",
       "      <th></th>\n",
       "      <th>Adj Close</th>\n",
       "      <th>Gain</th>\n",
       "      <th>Adj Close SMA6</th>\n",
       "      <th>Adj Close SMA12</th>\n",
       "    </tr>\n",
       "    <tr>\n",
       "      <th>Date</th>\n",
       "      <th></th>\n",
       "      <th></th>\n",
       "      <th></th>\n",
       "      <th></th>\n",
       "    </tr>\n",
       "  </thead>\n",
       "  <tbody>\n",
       "    <tr>\n",
       "      <th>2018-03-01</th>\n",
       "      <td>113.430000</td>\n",
       "      <td>-2.070000</td>\n",
       "      <td>116.225000</td>\n",
       "      <td>115.408333</td>\n",
       "    </tr>\n",
       "    <tr>\n",
       "      <th>2018-03-02</th>\n",
       "      <td>113.320000</td>\n",
       "      <td>-0.110000</td>\n",
       "      <td>115.948333</td>\n",
       "      <td>115.482500</td>\n",
       "    </tr>\n",
       "    <tr>\n",
       "      <th>2018-03-05</th>\n",
       "      <td>115.059998</td>\n",
       "      <td>1.739998</td>\n",
       "      <td>115.573333</td>\n",
       "      <td>115.485000</td>\n",
       "    </tr>\n",
       "    <tr>\n",
       "      <th>2018-03-06</th>\n",
       "      <td>115.160004</td>\n",
       "      <td>0.100006</td>\n",
       "      <td>114.971667</td>\n",
       "      <td>115.455833</td>\n",
       "    </tr>\n",
       "    <tr>\n",
       "      <th>2018-03-07</th>\n",
       "      <td>114.730003</td>\n",
       "      <td>-0.430001</td>\n",
       "      <td>114.533334</td>\n",
       "      <td>115.460000</td>\n",
       "    </tr>\n",
       "  </tbody>\n",
       "</table>\n",
       "</div>"
      ],
      "text/plain": [
       "             Adj Close      Gain  Adj Close SMA6  Adj Close SMA12\n",
       "Date                                                             \n",
       "2018-03-01  113.430000 -2.070000      116.225000       115.408333\n",
       "2018-03-02  113.320000 -0.110000      115.948333       115.482500\n",
       "2018-03-05  115.059998  1.739998      115.573333       115.485000\n",
       "2018-03-06  115.160004  0.100006      114.971667       115.455833\n",
       "2018-03-07  114.730003 -0.430001      114.533334       115.460000"
      ]
     },
     "execution_count": 89,
     "metadata": {},
     "output_type": "execute_result"
    }
   ],
   "source": [
    "# SMA: 6, 12, 20, 200\n",
    "sma_df = fat.create_sma_df(data, 'Adj Close', [6,12])\n",
    "del sma_df['Adj Close']\n",
    "data = data.join(sma_df)\n",
    "data.tail()"
   ]
  },
  {
   "cell_type": "code",
   "execution_count": 90,
   "metadata": {},
   "outputs": [
    {
     "data": {
      "text/html": [
       "<div>\n",
       "<style scoped>\n",
       "    .dataframe tbody tr th:only-of-type {\n",
       "        vertical-align: middle;\n",
       "    }\n",
       "\n",
       "    .dataframe tbody tr th {\n",
       "        vertical-align: top;\n",
       "    }\n",
       "\n",
       "    .dataframe thead th {\n",
       "        text-align: right;\n",
       "    }\n",
       "</style>\n",
       "<table border=\"1\" class=\"dataframe\">\n",
       "  <thead>\n",
       "    <tr style=\"text-align: right;\">\n",
       "      <th></th>\n",
       "      <th>Adj Close</th>\n",
       "      <th>Gain</th>\n",
       "      <th>Adj Close SMA6</th>\n",
       "      <th>Adj Close SMA12</th>\n",
       "      <th>Adj Close EMA12</th>\n",
       "      <th>Adj Close EMA26</th>\n",
       "    </tr>\n",
       "    <tr>\n",
       "      <th>Date</th>\n",
       "      <th></th>\n",
       "      <th></th>\n",
       "      <th></th>\n",
       "      <th></th>\n",
       "      <th></th>\n",
       "      <th></th>\n",
       "    </tr>\n",
       "  </thead>\n",
       "  <tbody>\n",
       "    <tr>\n",
       "      <th>2018-03-01</th>\n",
       "      <td>113.430000</td>\n",
       "      <td>-2.070000</td>\n",
       "      <td>116.225000</td>\n",
       "      <td>115.408333</td>\n",
       "      <td>115.164644</td>\n",
       "      <td>114.012405</td>\n",
       "    </tr>\n",
       "    <tr>\n",
       "      <th>2018-03-02</th>\n",
       "      <td>113.320000</td>\n",
       "      <td>-0.110000</td>\n",
       "      <td>115.948333</td>\n",
       "      <td>115.482500</td>\n",
       "      <td>114.880853</td>\n",
       "      <td>113.961115</td>\n",
       "    </tr>\n",
       "    <tr>\n",
       "      <th>2018-03-05</th>\n",
       "      <td>115.059998</td>\n",
       "      <td>1.739998</td>\n",
       "      <td>115.573333</td>\n",
       "      <td>115.485000</td>\n",
       "      <td>114.908414</td>\n",
       "      <td>114.042514</td>\n",
       "    </tr>\n",
       "    <tr>\n",
       "      <th>2018-03-06</th>\n",
       "      <td>115.160004</td>\n",
       "      <td>0.100006</td>\n",
       "      <td>114.971667</td>\n",
       "      <td>115.455833</td>\n",
       "      <td>114.947120</td>\n",
       "      <td>114.125291</td>\n",
       "    </tr>\n",
       "    <tr>\n",
       "      <th>2018-03-07</th>\n",
       "      <td>114.730003</td>\n",
       "      <td>-0.430001</td>\n",
       "      <td>114.533334</td>\n",
       "      <td>115.460000</td>\n",
       "      <td>114.913717</td>\n",
       "      <td>114.170085</td>\n",
       "    </tr>\n",
       "  </tbody>\n",
       "</table>\n",
       "</div>"
      ],
      "text/plain": [
       "             Adj Close      Gain  Adj Close SMA6  Adj Close SMA12  \\\n",
       "Date                                                                \n",
       "2018-03-01  113.430000 -2.070000      116.225000       115.408333   \n",
       "2018-03-02  113.320000 -0.110000      115.948333       115.482500   \n",
       "2018-03-05  115.059998  1.739998      115.573333       115.485000   \n",
       "2018-03-06  115.160004  0.100006      114.971667       115.455833   \n",
       "2018-03-07  114.730003 -0.430001      114.533334       115.460000   \n",
       "\n",
       "            Adj Close EMA12  Adj Close EMA26  \n",
       "Date                                          \n",
       "2018-03-01       115.164644       114.012405  \n",
       "2018-03-02       114.880853       113.961115  \n",
       "2018-03-05       114.908414       114.042514  \n",
       "2018-03-06       114.947120       114.125291  \n",
       "2018-03-07       114.913717       114.170085  "
      ]
     },
     "execution_count": 90,
     "metadata": {},
     "output_type": "execute_result"
    }
   ],
   "source": [
    "ema_df = fat.create_ema_df(data, 'Adj Close', [12,26])\n",
    "del ema_df['Adj Close']\n",
    "data = data.join(ema_df).dropna()\n",
    "data.tail()"
   ]
  },
  {
   "cell_type": "markdown",
   "metadata": {},
   "source": [
    "Moving to new notebook to implement Bollinger Bands..."
   ]
  },
  {
   "cell_type": "code",
   "execution_count": null,
   "metadata": {},
   "outputs": [],
   "source": []
  },
  {
   "cell_type": "code",
   "execution_count": null,
   "metadata": {},
   "outputs": [],
   "source": []
  }
 ],
 "metadata": {
  "kernelspec": {
   "display_name": "Python 3",
   "language": "python",
   "name": "python3"
  },
  "language_info": {
   "codemirror_mode": {
    "name": "ipython",
    "version": 3
   },
   "file_extension": ".py",
   "mimetype": "text/x-python",
   "name": "python",
   "nbconvert_exporter": "python",
   "pygments_lexer": "ipython3",
   "version": "3.6.4"
  }
 },
 "nbformat": 4,
 "nbformat_minor": 2
}
