{
 "cells": [
  {
   "cell_type": "markdown",
   "metadata": {},
   "source": [
    "# Nb-20180319-1120-RandomForest-GainPrediction"
   ]
  },
  {
   "cell_type": "code",
   "execution_count": 2,
   "metadata": {},
   "outputs": [],
   "source": [
    "STAMP = \"20180319-1120\""
   ]
  },
  {
   "cell_type": "markdown",
   "metadata": {},
   "source": [
    "This is a modification of the previous notebook.\n",
    "\n",
    "Do a simple random forest to try to predict if a stock ticker will make a gain the next day.\n",
    "\n",
    "- 'Adj Low' was most important feature from last notebook, so add in history and other features for 'Adj Low'"
   ]
  },
  {
   "cell_type": "code",
   "execution_count": 3,
   "metadata": {
    "hidden": true
   },
   "outputs": [],
   "source": [
    "%load_ext autoreload\n",
    "%autoreload 2\n",
    "\n",
    "%matplotlib inline"
   ]
  },
  {
   "cell_type": "code",
   "execution_count": 4,
   "metadata": {},
   "outputs": [],
   "source": [
    "from collections import defaultdict\n",
    "import operator"
   ]
  },
  {
   "cell_type": "code",
   "execution_count": 5,
   "metadata": {},
   "outputs": [],
   "source": [
    "import datetime as dt\n",
    "import numpy as np\n",
    "import pandas as pd\n",
    "import matplotlib.colors as colors\n",
    "import matplotlib.dates as mdates\n",
    "import matplotlib.ticker as mticker\n",
    "import matplotlib.mlab as mlab\n",
    "import matplotlib.pyplot as plt\n",
    "import matplotlib.font_manager as font_manager"
   ]
  },
  {
   "cell_type": "code",
   "execution_count": 6,
   "metadata": {
    "hidden": true
   },
   "outputs": [],
   "source": [
    "from fastai.imports import *\n",
    "from fastai.structured import *\n",
    "\n",
    "from pandas_summary import DataFrameSummary\n",
    "from sklearn.ensemble import RandomForestRegressor, RandomForestClassifier\n",
    "from IPython.display import display\n",
    "\n",
    "from sklearn import metrics"
   ]
  },
  {
   "cell_type": "code",
   "execution_count": 7,
   "metadata": {},
   "outputs": [],
   "source": [
    "import finance as fat"
   ]
  },
  {
   "cell_type": "code",
   "execution_count": 8,
   "metadata": {},
   "outputs": [],
   "source": [
    "# Change the plot size.\n",
    "plt.rcParams['figure.figsize'] = [18.0, 10.0]"
   ]
  },
  {
   "cell_type": "code",
   "execution_count": 9,
   "metadata": {},
   "outputs": [],
   "source": [
    "tickers = ['AAPL', 'FB', 'IBM', 'GOOG', 'MSFT','AMZN','CSCO','INTC']"
   ]
  },
  {
   "cell_type": "code",
   "execution_count": 10,
   "metadata": {},
   "outputs": [],
   "source": [
    "def create_ml_ticker_features_df(ticker, update=True) :\n",
    "    data = fat.get_price_data(ticker, update)\n",
    "    \n",
    "    # check for required columns in data\n",
    "    for c in ['Open','High','Low','Close','Adj Close', 'Volume'] :\n",
    "        assert c in data.columns, f'{ticker} does not contain data for {c}'\n",
    "    \n",
    "    # Price features\n",
    "    data = adjust_ohlc_prices(data)\n",
    "    \n",
    "    for c in ['Adj Close', 'Adj Low'] :\n",
    "        data = add_history(data, c, range(-5, 0))\n",
    "        data = fat.add_sma_columns(data, c, [6,12,20,200])\n",
    "        data = fat.add_ema_columns(data, c, [3,6,12,26,50])\n",
    "        data = fat.add_bollinger_bands(data, c)\n",
    "    \n",
    "    data = scale_columns(data, 1.0/data['Adj Close'], column_contains='Adj')\n",
    "    # 'Adj Close' data has all been scaled to 1.0, so get rid of it\n",
    "    del data['Adj Close']\n",
    "    # data = add_ohlc_booleans(data)\n",
    "    \n",
    "    # Volume features\n",
    "    # ... first, replace 0's with 1's so we don't divide by zero when scaling (some data has 0's in volume)\n",
    "    data['Volume'] = data['Volume'].replace(0, 1)\n",
    "    data = add_history(data, 'Volume', range(-5, 0))\n",
    "    #data = fat.add_bollinger_bands(data, 'Volume')\n",
    "    data = scale_columns(data, 1.0/data['Volume'], column_contains='Volume')\n",
    "    # 'Volume' data has all been scaled to 1.0, so get rid of it\n",
    "    del data['Volume']\n",
    "    \n",
    "    return data"
   ]
  },
  {
   "cell_type": "code",
   "execution_count": 11,
   "metadata": {},
   "outputs": [],
   "source": [
    "def adjust_ohlc_prices(data_frame, inplace=False) :\n",
    "    assert isinstance(data_frame, pd.DataFrame), \\\n",
    "        \"data_frame must be pandas.DataFrame object\"\n",
    "    \n",
    "    df = fat.use_data_frame_if_inplace(data_frame, inplace)\n",
    "    \n",
    "    columns = ['Open', 'High', 'Low', 'Close']\n",
    "    scaling = df['Close'] / df['Adj Close']\n",
    "    for c in columns :\n",
    "        df[c] /= scaling\n",
    "    \n",
    "    del df['Adj Close']\n",
    "    \n",
    "    # rename columns, add 'Adj ' to name\n",
    "    new_cols = {c : ('Adj '+c) for c in columns}\n",
    "    df.rename(columns=new_cols, inplace=True)\n",
    "    return df"
   ]
  },
  {
   "cell_type": "code",
   "execution_count": 12,
   "metadata": {},
   "outputs": [],
   "source": [
    "def add_history(data_frame, column, day_range, inplace=False) :\n",
    "    assert isinstance(data_frame, pd.DataFrame), \\\n",
    "        \"data_frame must be pandas.DataFrame object\"\n",
    "    df = fat.use_data_frame_if_inplace(data_frame, inplace)\n",
    "    \n",
    "    for i in day_range :\n",
    "        df[f'{column} {i}d'] = df[column].shift(-i)\n",
    "    return df"
   ]
  },
  {
   "cell_type": "code",
   "execution_count": 13,
   "metadata": {},
   "outputs": [],
   "source": [
    "def scale_columns(data_frame, scaling, column_contains, inplace=False) :\n",
    "    assert isinstance(data_frame, pd.DataFrame), \\\n",
    "        \"data_frame must be pandas.DataFrame object\"\n",
    "    df = fat.use_data_frame_if_inplace(data_frame, inplace)\n",
    "    \n",
    "    for c in df.columns : \n",
    "        if column_contains in c :\n",
    "            df[c] *= scaling\n",
    "    return df"
   ]
  },
  {
   "cell_type": "code",
   "execution_count": 14,
   "metadata": {},
   "outputs": [],
   "source": [
    "def add_ticker(data_frame, ticker) :\n",
    "    assert isinstance(data_frame, pd.DataFrame), \\\n",
    "        \"data_frame must be pandas.DataFrame object\"\n",
    "    df = data_frame.copy()\n",
    "    \n",
    "    df['Ticker'] = ticker\n",
    "    \n",
    "    # ... and rearrange columns to put ticker in front \n",
    "    cols = df.columns.tolist()\n",
    "    cols = cols[-1:] + cols[:-1]\n",
    "    df = df[cols]\n",
    "    \n",
    "    return df"
   ]
  },
  {
   "cell_type": "code",
   "execution_count": 15,
   "metadata": {},
   "outputs": [
    {
     "name": "stdout",
     "output_type": "stream",
     "text": [
      "Loaded data for AAPL: 1980-12-12 to 2018-03-16.\n",
      "Loaded data for FB: 2012-05-18 to 2018-03-16.\n",
      "Loaded data for IBM: 1970-01-02 to 2018-03-16.\n",
      "Loaded data for GOOG: 2004-08-19 to 2018-03-16.\n",
      "Loaded data for MSFT: 1986-03-13 to 2018-03-16.\n",
      "Loaded data for AMZN: 1997-05-15 to 2018-03-16.\n",
      "Loaded data for CSCO: 1990-02-16 to 2018-03-16.\n",
      "Loaded data for INTC: 1980-03-17 to 2018-03-16.\n"
     ]
    }
   ],
   "source": [
    "data_raw = None\n",
    "for t in tickers :\n",
    "    df = create_ml_ticker_features_df(t, update=False)\n",
    "    df = fat.create_ml_features_df(df)\n",
    "    df = add_ticker(df, t)\n",
    "    \n",
    "    df['Gain +1d'] = df['Adj Open'].shift(-1) < 1.0\n",
    "    \n",
    "    data_raw = df.append(data_raw)        "
   ]
  },
  {
   "cell_type": "code",
   "execution_count": 16,
   "metadata": {},
   "outputs": [
    {
     "data": {
      "text/html": [
       "<div>\n",
       "<style scoped>\n",
       "    .dataframe tbody tr th:only-of-type {\n",
       "        vertical-align: middle;\n",
       "    }\n",
       "\n",
       "    .dataframe tbody tr th {\n",
       "        vertical-align: top;\n",
       "    }\n",
       "\n",
       "    .dataframe thead th {\n",
       "        text-align: right;\n",
       "    }\n",
       "</style>\n",
       "<table border=\"1\" class=\"dataframe\">\n",
       "  <thead>\n",
       "    <tr style=\"text-align: right;\">\n",
       "      <th></th>\n",
       "      <th>count</th>\n",
       "      <th>mean</th>\n",
       "      <th>std</th>\n",
       "      <th>min</th>\n",
       "      <th>25%</th>\n",
       "      <th>50%</th>\n",
       "      <th>75%</th>\n",
       "      <th>max</th>\n",
       "    </tr>\n",
       "  </thead>\n",
       "  <tbody>\n",
       "    <tr>\n",
       "      <th>Adj Open</th>\n",
       "      <td>56414.0</td>\n",
       "      <td>1.000257e+00</td>\n",
       "      <td>3.315315e-02</td>\n",
       "      <td>7.758007e-01</td>\n",
       "      <td>9.903894e-01</td>\n",
       "      <td>1.000000e+00</td>\n",
       "      <td>1.009569e+00</td>\n",
       "      <td>7.057778e+00</td>\n",
       "    </tr>\n",
       "    <tr>\n",
       "      <th>Adj High</th>\n",
       "      <td>56414.0</td>\n",
       "      <td>1.014105e+00</td>\n",
       "      <td>3.018389e-02</td>\n",
       "      <td>1.000000e+00</td>\n",
       "      <td>1.004179e+00</td>\n",
       "      <td>1.009274e+00</td>\n",
       "      <td>1.018258e+00</td>\n",
       "      <td>7.111111e+00</td>\n",
       "    </tr>\n",
       "    <tr>\n",
       "      <th>Adj Low</th>\n",
       "      <td>56414.0</td>\n",
       "      <td>9.860949e-01</td>\n",
       "      <td>1.527625e-02</td>\n",
       "      <td>7.711443e-01</td>\n",
       "      <td>9.815422e-01</td>\n",
       "      <td>9.905666e-01</td>\n",
       "      <td>9.958581e-01</td>\n",
       "      <td>1.000000e+00</td>\n",
       "    </tr>\n",
       "    <tr>\n",
       "      <th>Adj Close -5d</th>\n",
       "      <td>56374.0</td>\n",
       "      <td>9.976059e-01</td>\n",
       "      <td>5.640931e-02</td>\n",
       "      <td>5.791284e-01</td>\n",
       "      <td>9.698926e-01</td>\n",
       "      <td>9.960438e-01</td>\n",
       "      <td>1.022568e+00</td>\n",
       "      <td>2.424929e+00</td>\n",
       "    </tr>\n",
       "    <tr>\n",
       "      <th>Adj Close -4d</th>\n",
       "      <td>56382.0</td>\n",
       "      <td>9.980999e-01</td>\n",
       "      <td>5.058621e-02</td>\n",
       "      <td>5.705521e-01</td>\n",
       "      <td>9.734397e-01</td>\n",
       "      <td>9.970967e-01</td>\n",
       "      <td>1.020597e+00</td>\n",
       "      <td>2.264551e+00</td>\n",
       "    </tr>\n",
       "    <tr>\n",
       "      <th>Adj Close -3d</th>\n",
       "      <td>56390.0</td>\n",
       "      <td>9.985925e-01</td>\n",
       "      <td>4.413561e-02</td>\n",
       "      <td>6.283784e-01</td>\n",
       "      <td>9.776878e-01</td>\n",
       "      <td>9.978438e-01</td>\n",
       "      <td>1.017894e+00</td>\n",
       "      <td>2.397760e+00</td>\n",
       "    </tr>\n",
       "    <tr>\n",
       "      <th>Adj Close -2d</th>\n",
       "      <td>56398.0</td>\n",
       "      <td>9.990754e-01</td>\n",
       "      <td>3.626345e-02</td>\n",
       "      <td>6.766591e-01</td>\n",
       "      <td>9.823618e-01</td>\n",
       "      <td>9.988078e-01</td>\n",
       "      <td>1.014925e+00</td>\n",
       "      <td>2.206186e+00</td>\n",
       "    </tr>\n",
       "    <tr>\n",
       "      <th>Adj Close -1d</th>\n",
       "      <td>56406.0</td>\n",
       "      <td>9.995369e-01</td>\n",
       "      <td>2.551866e-02</td>\n",
       "      <td>7.436527e-01</td>\n",
       "      <td>9.881431e-01</td>\n",
       "      <td>1.000000e+00</td>\n",
       "      <td>1.010467e+00</td>\n",
       "      <td>2.077671e+00</td>\n",
       "    </tr>\n",
       "    <tr>\n",
       "      <th>Adj Close SMA6</th>\n",
       "      <td>56374.0</td>\n",
       "      <td>9.988107e-01</td>\n",
       "      <td>3.127293e-02</td>\n",
       "      <td>7.519628e-01</td>\n",
       "      <td>9.837956e-01</td>\n",
       "      <td>9.981104e-01</td>\n",
       "      <td>1.012444e+00</td>\n",
       "      <td>1.846683e+00</td>\n",
       "    </tr>\n",
       "    <tr>\n",
       "      <th>Adj Close SMA12</th>\n",
       "      <td>56326.0</td>\n",
       "      <td>9.973297e-01</td>\n",
       "      <td>4.705561e-02</td>\n",
       "      <td>6.572091e-01</td>\n",
       "      <td>9.736846e-01</td>\n",
       "      <td>9.956737e-01</td>\n",
       "      <td>1.017968e+00</td>\n",
       "      <td>2.129611e+00</td>\n",
       "    </tr>\n",
       "    <tr>\n",
       "      <th>Adj Close SMA20</th>\n",
       "      <td>56262.0</td>\n",
       "      <td>9.953658e-01</td>\n",
       "      <td>6.253225e-02</td>\n",
       "      <td>6.038530e-01</td>\n",
       "      <td>9.628914e-01</td>\n",
       "      <td>9.922546e-01</td>\n",
       "      <td>1.022910e+00</td>\n",
       "      <td>2.321114e+00</td>\n",
       "    </tr>\n",
       "    <tr>\n",
       "      <th>Adj Close SMA200</th>\n",
       "      <td>54822.0</td>\n",
       "      <td>9.574345e-01</td>\n",
       "      <td>2.163552e-01</td>\n",
       "      <td>2.201965e-01</td>\n",
       "      <td>8.420555e-01</td>\n",
       "      <td>9.277728e-01</td>\n",
       "      <td>1.039598e+00</td>\n",
       "      <td>3.543721e+00</td>\n",
       "    </tr>\n",
       "    <tr>\n",
       "      <th>Adj Close EMA3</th>\n",
       "      <td>56414.0</td>\n",
       "      <td>9.995318e-01</td>\n",
       "      <td>1.468399e-02</td>\n",
       "      <td>8.661233e-01</td>\n",
       "      <td>9.927442e-01</td>\n",
       "      <td>9.992714e-01</td>\n",
       "      <td>1.005756e+00</td>\n",
       "      <td>1.513866e+00</td>\n",
       "    </tr>\n",
       "    <tr>\n",
       "      <th>Adj Close EMA6</th>\n",
       "      <td>56414.0</td>\n",
       "      <td>9.988119e-01</td>\n",
       "      <td>2.580429e-02</td>\n",
       "      <td>7.912028e-01</td>\n",
       "      <td>9.862947e-01</td>\n",
       "      <td>9.980674e-01</td>\n",
       "      <td>1.009952e+00</td>\n",
       "      <td>1.759399e+00</td>\n",
       "    </tr>\n",
       "    <tr>\n",
       "      <th>Adj Close EMA12</th>\n",
       "      <td>56414.0</td>\n",
       "      <td>9.973627e-01</td>\n",
       "      <td>4.004113e-02</td>\n",
       "      <td>7.054814e-01</td>\n",
       "      <td>9.771692e-01</td>\n",
       "      <td>9.956188e-01</td>\n",
       "      <td>1.014775e+00</td>\n",
       "      <td>1.952628e+00</td>\n",
       "    </tr>\n",
       "    <tr>\n",
       "      <th>Adj Close EMA26</th>\n",
       "      <td>56414.0</td>\n",
       "      <td>9.940460e-01</td>\n",
       "      <td>6.210402e-02</td>\n",
       "      <td>5.998094e-01</td>\n",
       "      <td>9.609312e-01</td>\n",
       "      <td>9.901730e-01</td>\n",
       "      <td>1.020844e+00</td>\n",
       "      <td>2.193185e+00</td>\n",
       "    </tr>\n",
       "    <tr>\n",
       "      <th>Adj Close EMA50</th>\n",
       "      <td>56414.0</td>\n",
       "      <td>9.885996e-01</td>\n",
       "      <td>8.868979e-02</td>\n",
       "      <td>4.816363e-01</td>\n",
       "      <td>9.400294e-01</td>\n",
       "      <td>9.812557e-01</td>\n",
       "      <td>1.025764e+00</td>\n",
       "      <td>2.296287e+00</td>\n",
       "    </tr>\n",
       "    <tr>\n",
       "      <th>Adj Close BBandHi20</th>\n",
       "      <td>56262.0</td>\n",
       "      <td>1.069992e+00</td>\n",
       "      <td>9.599407e-02</td>\n",
       "      <td>8.551915e-01</td>\n",
       "      <td>1.019237e+00</td>\n",
       "      <td>1.044560e+00</td>\n",
       "      <td>1.089288e+00</td>\n",
       "      <td>3.813682e+00</td>\n",
       "    </tr>\n",
       "    <tr>\n",
       "      <th>Adj Close BBandLo20</th>\n",
       "      <td>56262.0</td>\n",
       "      <td>9.207398e-01</td>\n",
       "      <td>7.335143e-02</td>\n",
       "      <td>7.583831e-02</td>\n",
       "      <td>8.896197e-01</td>\n",
       "      <td>9.391855e-01</td>\n",
       "      <td>9.706265e-01</td>\n",
       "      <td>1.538808e+00</td>\n",
       "    </tr>\n",
       "    <tr>\n",
       "      <th>Adj Low -5d</th>\n",
       "      <td>56374.0</td>\n",
       "      <td>9.837051e-01</td>\n",
       "      <td>5.686305e-02</td>\n",
       "      <td>5.665138e-01</td>\n",
       "      <td>9.560971e-01</td>\n",
       "      <td>9.848440e-01</td>\n",
       "      <td>1.010889e+00</td>\n",
       "      <td>2.302522e+00</td>\n",
       "    </tr>\n",
       "    <tr>\n",
       "      <th>Adj Low -4d</th>\n",
       "      <td>56382.0</td>\n",
       "      <td>9.841946e-01</td>\n",
       "      <td>5.138858e-02</td>\n",
       "      <td>5.589639e-01</td>\n",
       "      <td>9.597939e-01</td>\n",
       "      <td>9.859154e-01</td>\n",
       "      <td>1.008930e+00</td>\n",
       "      <td>2.162465e+00</td>\n",
       "    </tr>\n",
       "    <tr>\n",
       "      <th>Adj Low -3d</th>\n",
       "      <td>56390.0</td>\n",
       "      <td>9.846827e-01</td>\n",
       "      <td>4.534228e-02</td>\n",
       "      <td>6.156156e-01</td>\n",
       "      <td>9.637334e-01</td>\n",
       "      <td>9.866491e-01</td>\n",
       "      <td>1.006523e+00</td>\n",
       "      <td>2.156863e+00</td>\n",
       "    </tr>\n",
       "    <tr>\n",
       "      <th>Adj Low -2d</th>\n",
       "      <td>56398.0</td>\n",
       "      <td>9.851627e-01</td>\n",
       "      <td>3.812907e-02</td>\n",
       "      <td>6.288032e-01</td>\n",
       "      <td>9.683868e-01</td>\n",
       "      <td>9.875918e-01</td>\n",
       "      <td>1.003812e+00</td>\n",
       "      <td>1.984537e+00</td>\n",
       "    </tr>\n",
       "    <tr>\n",
       "      <th>Adj Low -1d</th>\n",
       "      <td>56406.0</td>\n",
       "      <td>9.856281e-01</td>\n",
       "      <td>2.890757e-02</td>\n",
       "      <td>6.791271e-01</td>\n",
       "      <td>9.738362e-01</td>\n",
       "      <td>9.886793e-01</td>\n",
       "      <td>1.000000e+00</td>\n",
       "      <td>1.868933e+00</td>\n",
       "    </tr>\n",
       "    <tr>\n",
       "      <th>Adj Low SMA6</th>\n",
       "      <td>56374.0</td>\n",
       "      <td>9.849060e-01</td>\n",
       "      <td>3.384796e-02</td>\n",
       "      <td>6.938551e-01</td>\n",
       "      <td>9.694379e-01</td>\n",
       "      <td>9.872479e-01</td>\n",
       "      <td>1.001951e+00</td>\n",
       "      <td>1.781149e+00</td>\n",
       "    </tr>\n",
       "    <tr>\n",
       "      <th>Adj Low SMA12</th>\n",
       "      <td>56326.0</td>\n",
       "      <td>9.834364e-01</td>\n",
       "      <td>4.791912e-02</td>\n",
       "      <td>6.331828e-01</td>\n",
       "      <td>9.600289e-01</td>\n",
       "      <td>9.846858e-01</td>\n",
       "      <td>1.006742e+00</td>\n",
       "      <td>2.047853e+00</td>\n",
       "    </tr>\n",
       "    <tr>\n",
       "      <th>Adj Low SMA20</th>\n",
       "      <td>56262.0</td>\n",
       "      <td>9.814946e-01</td>\n",
       "      <td>6.241869e-02</td>\n",
       "      <td>5.579301e-01</td>\n",
       "      <td>9.496463e-01</td>\n",
       "      <td>9.810935e-01</td>\n",
       "      <td>1.011181e+00</td>\n",
       "      <td>2.253782e+00</td>\n",
       "    </tr>\n",
       "    <tr>\n",
       "      <th>Adj Low SMA200</th>\n",
       "      <td>54822.0</td>\n",
       "      <td>9.439519e-01</td>\n",
       "      <td>2.110057e-01</td>\n",
       "      <td>2.093206e-01</td>\n",
       "      <td>8.303266e-01</td>\n",
       "      <td>9.171296e-01</td>\n",
       "      <td>1.026532e+00</td>\n",
       "      <td>3.447715e+00</td>\n",
       "    </tr>\n",
       "    <tr>\n",
       "      <th>Adj Low EMA3</th>\n",
       "      <td>56414.0</td>\n",
       "      <td>9.856235e-01</td>\n",
       "      <td>2.084462e-02</td>\n",
       "      <td>7.474168e-01</td>\n",
       "      <td>9.771792e-01</td>\n",
       "      <td>9.888932e-01</td>\n",
       "      <td>9.973870e-01</td>\n",
       "      <td>1.446681e+00</td>\n",
       "    </tr>\n",
       "    <tr>\n",
       "      <th>Adj Low EMA6</th>\n",
       "      <td>56414.0</td>\n",
       "      <td>9.849048e-01</td>\n",
       "      <td>2.903043e-02</td>\n",
       "      <td>7.173087e-01</td>\n",
       "      <td>9.717229e-01</td>\n",
       "      <td>9.872867e-01</td>\n",
       "      <td>9.999732e-01</td>\n",
       "      <td>1.689928e+00</td>\n",
       "    </tr>\n",
       "    <tr>\n",
       "      <th>Adj Low EMA12</th>\n",
       "      <td>56414.0</td>\n",
       "      <td>9.834657e-01</td>\n",
       "      <td>4.130394e-02</td>\n",
       "      <td>6.626100e-01</td>\n",
       "      <td>9.632248e-01</td>\n",
       "      <td>9.846307e-01</td>\n",
       "      <td>1.003864e+00</td>\n",
       "      <td>1.885213e+00</td>\n",
       "    </tr>\n",
       "    <tr>\n",
       "      <th>Adj Low EMA26</th>\n",
       "      <td>56414.0</td>\n",
       "      <td>9.801815e-01</td>\n",
       "      <td>6.173118e-02</td>\n",
       "      <td>5.571534e-01</td>\n",
       "      <td>9.478712e-01</td>\n",
       "      <td>9.789692e-01</td>\n",
       "      <td>1.009068e+00</td>\n",
       "      <td>2.128674e+00</td>\n",
       "    </tr>\n",
       "    <tr>\n",
       "      <th>Adj Low EMA50</th>\n",
       "      <td>56414.0</td>\n",
       "      <td>9.747934e-01</td>\n",
       "      <td>8.710583e-02</td>\n",
       "      <td>4.516737e-01</td>\n",
       "      <td>9.272496e-01</td>\n",
       "      <td>9.699823e-01</td>\n",
       "      <td>1.013872e+00</td>\n",
       "      <td>2.232153e+00</td>\n",
       "    </tr>\n",
       "    <tr>\n",
       "      <th>Adj Low BBandHi20</th>\n",
       "      <td>56262.0</td>\n",
       "      <td>1.055099e+00</td>\n",
       "      <td>9.283405e-02</td>\n",
       "      <td>7.697960e-01</td>\n",
       "      <td>1.007441e+00</td>\n",
       "      <td>1.031900e+00</td>\n",
       "      <td>1.074365e+00</td>\n",
       "      <td>3.673136e+00</td>\n",
       "    </tr>\n",
       "    <tr>\n",
       "      <th>Adj Low BBandLo20</th>\n",
       "      <td>56262.0</td>\n",
       "      <td>9.078904e-01</td>\n",
       "      <td>7.567740e-02</td>\n",
       "      <td>8.180358e-02</td>\n",
       "      <td>8.744590e-01</td>\n",
       "      <td>9.263540e-01</td>\n",
       "      <td>9.601461e-01</td>\n",
       "      <td>1.494243e+00</td>\n",
       "    </tr>\n",
       "    <tr>\n",
       "      <th>Volume -5d</th>\n",
       "      <td>56374.0</td>\n",
       "      <td>1.453575e+02</td>\n",
       "      <td>2.160478e+04</td>\n",
       "      <td>1.634949e-07</td>\n",
       "      <td>7.339453e-01</td>\n",
       "      <td>1.011296e+00</td>\n",
       "      <td>1.379206e+00</td>\n",
       "      <td>4.694400e+06</td>\n",
       "    </tr>\n",
       "    <tr>\n",
       "      <th>Volume -4d</th>\n",
       "      <td>56382.0</td>\n",
       "      <td>3.360439e+02</td>\n",
       "      <td>5.497621e+04</td>\n",
       "      <td>1.780627e-07</td>\n",
       "      <td>7.406052e-01</td>\n",
       "      <td>1.013629e+00</td>\n",
       "      <td>1.370367e+00</td>\n",
       "      <td>1.245120e+07</td>\n",
       "    </tr>\n",
       "    <tr>\n",
       "      <th>Volume -3d</th>\n",
       "      <td>56390.0</td>\n",
       "      <td>2.282800e+02</td>\n",
       "      <td>3.213719e+04</td>\n",
       "      <td>1.237134e-07</td>\n",
       "      <td>7.477394e-01</td>\n",
       "      <td>1.014737e+00</td>\n",
       "      <td>1.360440e+00</td>\n",
       "      <td>6.249600e+06</td>\n",
       "    </tr>\n",
       "    <tr>\n",
       "      <th>Volume -2d</th>\n",
       "      <td>56398.0</td>\n",
       "      <td>3.266282e+02</td>\n",
       "      <td>5.763724e+04</td>\n",
       "      <td>2.021182e-07</td>\n",
       "      <td>7.619845e-01</td>\n",
       "      <td>1.015181e+00</td>\n",
       "      <td>1.336484e+00</td>\n",
       "      <td>1.331520e+07</td>\n",
       "    </tr>\n",
       "    <tr>\n",
       "      <th>Volume -1d</th>\n",
       "      <td>56406.0</td>\n",
       "      <td>1.656584e+02</td>\n",
       "      <td>2.328877e+04</td>\n",
       "      <td>1.259573e-07</td>\n",
       "      <td>7.946983e-01</td>\n",
       "      <td>1.014911e+00</td>\n",
       "      <td>1.276934e+00</td>\n",
       "      <td>4.444800e+06</td>\n",
       "    </tr>\n",
       "    <tr>\n",
       "      <th>Days Since Trading</th>\n",
       "      <td>56414.0</td>\n",
       "      <td>1.448931e+00</td>\n",
       "      <td>8.756194e-01</td>\n",
       "      <td>1.000000e+00</td>\n",
       "      <td>1.000000e+00</td>\n",
       "      <td>1.000000e+00</td>\n",
       "      <td>1.000000e+00</td>\n",
       "      <td>7.000000e+00</td>\n",
       "    </tr>\n",
       "    <tr>\n",
       "      <th>Days Until Trading</th>\n",
       "      <td>56414.0</td>\n",
       "      <td>1.448931e+00</td>\n",
       "      <td>8.756194e-01</td>\n",
       "      <td>1.000000e+00</td>\n",
       "      <td>1.000000e+00</td>\n",
       "      <td>1.000000e+00</td>\n",
       "      <td>1.000000e+00</td>\n",
       "      <td>7.000000e+00</td>\n",
       "    </tr>\n",
       "    <tr>\n",
       "      <th>Year</th>\n",
       "      <td>56414.0</td>\n",
       "      <td>2.000657e+03</td>\n",
       "      <td>1.162570e+01</td>\n",
       "      <td>1.970000e+03</td>\n",
       "      <td>1.992000e+03</td>\n",
       "      <td>2.002000e+03</td>\n",
       "      <td>2.011000e+03</td>\n",
       "      <td>2.018000e+03</td>\n",
       "    </tr>\n",
       "    <tr>\n",
       "      <th>Month</th>\n",
       "      <td>56414.0</td>\n",
       "      <td>6.535133e+00</td>\n",
       "      <td>3.437461e+00</td>\n",
       "      <td>1.000000e+00</td>\n",
       "      <td>4.000000e+00</td>\n",
       "      <td>7.000000e+00</td>\n",
       "      <td>1.000000e+01</td>\n",
       "      <td>1.200000e+01</td>\n",
       "    </tr>\n",
       "    <tr>\n",
       "      <th>Week</th>\n",
       "      <td>56414.0</td>\n",
       "      <td>2.660733e+01</td>\n",
       "      <td>1.500564e+01</td>\n",
       "      <td>1.000000e+00</td>\n",
       "      <td>1.400000e+01</td>\n",
       "      <td>2.700000e+01</td>\n",
       "      <td>4.000000e+01</td>\n",
       "      <td>5.300000e+01</td>\n",
       "    </tr>\n",
       "    <tr>\n",
       "      <th>Day</th>\n",
       "      <td>56414.0</td>\n",
       "      <td>1.573329e+01</td>\n",
       "      <td>8.745875e+00</td>\n",
       "      <td>1.000000e+00</td>\n",
       "      <td>8.000000e+00</td>\n",
       "      <td>1.600000e+01</td>\n",
       "      <td>2.300000e+01</td>\n",
       "      <td>3.100000e+01</td>\n",
       "    </tr>\n",
       "    <tr>\n",
       "      <th>Dayofweek</th>\n",
       "      <td>56414.0</td>\n",
       "      <td>2.018666e+00</td>\n",
       "      <td>1.400252e+00</td>\n",
       "      <td>0.000000e+00</td>\n",
       "      <td>1.000000e+00</td>\n",
       "      <td>2.000000e+00</td>\n",
       "      <td>3.000000e+00</td>\n",
       "      <td>4.000000e+00</td>\n",
       "    </tr>\n",
       "    <tr>\n",
       "      <th>Dayofyear</th>\n",
       "      <td>56414.0</td>\n",
       "      <td>1.834977e+02</td>\n",
       "      <td>1.050063e+02</td>\n",
       "      <td>2.000000e+00</td>\n",
       "      <td>9.200000e+01</td>\n",
       "      <td>1.830000e+02</td>\n",
       "      <td>2.750000e+02</td>\n",
       "      <td>3.660000e+02</td>\n",
       "    </tr>\n",
       "    <tr>\n",
       "      <th>Elapsed</th>\n",
       "      <td>56414.0</td>\n",
       "      <td>9.832300e+08</td>\n",
       "      <td>3.668456e+08</td>\n",
       "      <td>8.640000e+04</td>\n",
       "      <td>7.147872e+08</td>\n",
       "      <td>1.033949e+09</td>\n",
       "      <td>1.294790e+09</td>\n",
       "      <td>1.521158e+09</td>\n",
       "    </tr>\n",
       "  </tbody>\n",
       "</table>\n",
       "</div>"
      ],
      "text/plain": [
       "                       count          mean           std           min  \\\n",
       "Adj Open             56414.0  1.000257e+00  3.315315e-02  7.758007e-01   \n",
       "Adj High             56414.0  1.014105e+00  3.018389e-02  1.000000e+00   \n",
       "Adj Low              56414.0  9.860949e-01  1.527625e-02  7.711443e-01   \n",
       "Adj Close -5d        56374.0  9.976059e-01  5.640931e-02  5.791284e-01   \n",
       "Adj Close -4d        56382.0  9.980999e-01  5.058621e-02  5.705521e-01   \n",
       "Adj Close -3d        56390.0  9.985925e-01  4.413561e-02  6.283784e-01   \n",
       "Adj Close -2d        56398.0  9.990754e-01  3.626345e-02  6.766591e-01   \n",
       "Adj Close -1d        56406.0  9.995369e-01  2.551866e-02  7.436527e-01   \n",
       "Adj Close SMA6       56374.0  9.988107e-01  3.127293e-02  7.519628e-01   \n",
       "Adj Close SMA12      56326.0  9.973297e-01  4.705561e-02  6.572091e-01   \n",
       "Adj Close SMA20      56262.0  9.953658e-01  6.253225e-02  6.038530e-01   \n",
       "Adj Close SMA200     54822.0  9.574345e-01  2.163552e-01  2.201965e-01   \n",
       "Adj Close EMA3       56414.0  9.995318e-01  1.468399e-02  8.661233e-01   \n",
       "Adj Close EMA6       56414.0  9.988119e-01  2.580429e-02  7.912028e-01   \n",
       "Adj Close EMA12      56414.0  9.973627e-01  4.004113e-02  7.054814e-01   \n",
       "Adj Close EMA26      56414.0  9.940460e-01  6.210402e-02  5.998094e-01   \n",
       "Adj Close EMA50      56414.0  9.885996e-01  8.868979e-02  4.816363e-01   \n",
       "Adj Close BBandHi20  56262.0  1.069992e+00  9.599407e-02  8.551915e-01   \n",
       "Adj Close BBandLo20  56262.0  9.207398e-01  7.335143e-02  7.583831e-02   \n",
       "Adj Low -5d          56374.0  9.837051e-01  5.686305e-02  5.665138e-01   \n",
       "Adj Low -4d          56382.0  9.841946e-01  5.138858e-02  5.589639e-01   \n",
       "Adj Low -3d          56390.0  9.846827e-01  4.534228e-02  6.156156e-01   \n",
       "Adj Low -2d          56398.0  9.851627e-01  3.812907e-02  6.288032e-01   \n",
       "Adj Low -1d          56406.0  9.856281e-01  2.890757e-02  6.791271e-01   \n",
       "Adj Low SMA6         56374.0  9.849060e-01  3.384796e-02  6.938551e-01   \n",
       "Adj Low SMA12        56326.0  9.834364e-01  4.791912e-02  6.331828e-01   \n",
       "Adj Low SMA20        56262.0  9.814946e-01  6.241869e-02  5.579301e-01   \n",
       "Adj Low SMA200       54822.0  9.439519e-01  2.110057e-01  2.093206e-01   \n",
       "Adj Low EMA3         56414.0  9.856235e-01  2.084462e-02  7.474168e-01   \n",
       "Adj Low EMA6         56414.0  9.849048e-01  2.903043e-02  7.173087e-01   \n",
       "Adj Low EMA12        56414.0  9.834657e-01  4.130394e-02  6.626100e-01   \n",
       "Adj Low EMA26        56414.0  9.801815e-01  6.173118e-02  5.571534e-01   \n",
       "Adj Low EMA50        56414.0  9.747934e-01  8.710583e-02  4.516737e-01   \n",
       "Adj Low BBandHi20    56262.0  1.055099e+00  9.283405e-02  7.697960e-01   \n",
       "Adj Low BBandLo20    56262.0  9.078904e-01  7.567740e-02  8.180358e-02   \n",
       "Volume -5d           56374.0  1.453575e+02  2.160478e+04  1.634949e-07   \n",
       "Volume -4d           56382.0  3.360439e+02  5.497621e+04  1.780627e-07   \n",
       "Volume -3d           56390.0  2.282800e+02  3.213719e+04  1.237134e-07   \n",
       "Volume -2d           56398.0  3.266282e+02  5.763724e+04  2.021182e-07   \n",
       "Volume -1d           56406.0  1.656584e+02  2.328877e+04  1.259573e-07   \n",
       "Days Since Trading   56414.0  1.448931e+00  8.756194e-01  1.000000e+00   \n",
       "Days Until Trading   56414.0  1.448931e+00  8.756194e-01  1.000000e+00   \n",
       "Year                 56414.0  2.000657e+03  1.162570e+01  1.970000e+03   \n",
       "Month                56414.0  6.535133e+00  3.437461e+00  1.000000e+00   \n",
       "Week                 56414.0  2.660733e+01  1.500564e+01  1.000000e+00   \n",
       "Day                  56414.0  1.573329e+01  8.745875e+00  1.000000e+00   \n",
       "Dayofweek            56414.0  2.018666e+00  1.400252e+00  0.000000e+00   \n",
       "Dayofyear            56414.0  1.834977e+02  1.050063e+02  2.000000e+00   \n",
       "Elapsed              56414.0  9.832300e+08  3.668456e+08  8.640000e+04   \n",
       "\n",
       "                              25%           50%           75%           max  \n",
       "Adj Open             9.903894e-01  1.000000e+00  1.009569e+00  7.057778e+00  \n",
       "Adj High             1.004179e+00  1.009274e+00  1.018258e+00  7.111111e+00  \n",
       "Adj Low              9.815422e-01  9.905666e-01  9.958581e-01  1.000000e+00  \n",
       "Adj Close -5d        9.698926e-01  9.960438e-01  1.022568e+00  2.424929e+00  \n",
       "Adj Close -4d        9.734397e-01  9.970967e-01  1.020597e+00  2.264551e+00  \n",
       "Adj Close -3d        9.776878e-01  9.978438e-01  1.017894e+00  2.397760e+00  \n",
       "Adj Close -2d        9.823618e-01  9.988078e-01  1.014925e+00  2.206186e+00  \n",
       "Adj Close -1d        9.881431e-01  1.000000e+00  1.010467e+00  2.077671e+00  \n",
       "Adj Close SMA6       9.837956e-01  9.981104e-01  1.012444e+00  1.846683e+00  \n",
       "Adj Close SMA12      9.736846e-01  9.956737e-01  1.017968e+00  2.129611e+00  \n",
       "Adj Close SMA20      9.628914e-01  9.922546e-01  1.022910e+00  2.321114e+00  \n",
       "Adj Close SMA200     8.420555e-01  9.277728e-01  1.039598e+00  3.543721e+00  \n",
       "Adj Close EMA3       9.927442e-01  9.992714e-01  1.005756e+00  1.513866e+00  \n",
       "Adj Close EMA6       9.862947e-01  9.980674e-01  1.009952e+00  1.759399e+00  \n",
       "Adj Close EMA12      9.771692e-01  9.956188e-01  1.014775e+00  1.952628e+00  \n",
       "Adj Close EMA26      9.609312e-01  9.901730e-01  1.020844e+00  2.193185e+00  \n",
       "Adj Close EMA50      9.400294e-01  9.812557e-01  1.025764e+00  2.296287e+00  \n",
       "Adj Close BBandHi20  1.019237e+00  1.044560e+00  1.089288e+00  3.813682e+00  \n",
       "Adj Close BBandLo20  8.896197e-01  9.391855e-01  9.706265e-01  1.538808e+00  \n",
       "Adj Low -5d          9.560971e-01  9.848440e-01  1.010889e+00  2.302522e+00  \n",
       "Adj Low -4d          9.597939e-01  9.859154e-01  1.008930e+00  2.162465e+00  \n",
       "Adj Low -3d          9.637334e-01  9.866491e-01  1.006523e+00  2.156863e+00  \n",
       "Adj Low -2d          9.683868e-01  9.875918e-01  1.003812e+00  1.984537e+00  \n",
       "Adj Low -1d          9.738362e-01  9.886793e-01  1.000000e+00  1.868933e+00  \n",
       "Adj Low SMA6         9.694379e-01  9.872479e-01  1.001951e+00  1.781149e+00  \n",
       "Adj Low SMA12        9.600289e-01  9.846858e-01  1.006742e+00  2.047853e+00  \n",
       "Adj Low SMA20        9.496463e-01  9.810935e-01  1.011181e+00  2.253782e+00  \n",
       "Adj Low SMA200       8.303266e-01  9.171296e-01  1.026532e+00  3.447715e+00  \n",
       "Adj Low EMA3         9.771792e-01  9.888932e-01  9.973870e-01  1.446681e+00  \n",
       "Adj Low EMA6         9.717229e-01  9.872867e-01  9.999732e-01  1.689928e+00  \n",
       "Adj Low EMA12        9.632248e-01  9.846307e-01  1.003864e+00  1.885213e+00  \n",
       "Adj Low EMA26        9.478712e-01  9.789692e-01  1.009068e+00  2.128674e+00  \n",
       "Adj Low EMA50        9.272496e-01  9.699823e-01  1.013872e+00  2.232153e+00  \n",
       "Adj Low BBandHi20    1.007441e+00  1.031900e+00  1.074365e+00  3.673136e+00  \n",
       "Adj Low BBandLo20    8.744590e-01  9.263540e-01  9.601461e-01  1.494243e+00  \n",
       "Volume -5d           7.339453e-01  1.011296e+00  1.379206e+00  4.694400e+06  \n",
       "Volume -4d           7.406052e-01  1.013629e+00  1.370367e+00  1.245120e+07  \n",
       "Volume -3d           7.477394e-01  1.014737e+00  1.360440e+00  6.249600e+06  \n",
       "Volume -2d           7.619845e-01  1.015181e+00  1.336484e+00  1.331520e+07  \n",
       "Volume -1d           7.946983e-01  1.014911e+00  1.276934e+00  4.444800e+06  \n",
       "Days Since Trading   1.000000e+00  1.000000e+00  1.000000e+00  7.000000e+00  \n",
       "Days Until Trading   1.000000e+00  1.000000e+00  1.000000e+00  7.000000e+00  \n",
       "Year                 1.992000e+03  2.002000e+03  2.011000e+03  2.018000e+03  \n",
       "Month                4.000000e+00  7.000000e+00  1.000000e+01  1.200000e+01  \n",
       "Week                 1.400000e+01  2.700000e+01  4.000000e+01  5.300000e+01  \n",
       "Day                  8.000000e+00  1.600000e+01  2.300000e+01  3.100000e+01  \n",
       "Dayofweek            1.000000e+00  2.000000e+00  3.000000e+00  4.000000e+00  \n",
       "Dayofyear            9.200000e+01  1.830000e+02  2.750000e+02  3.660000e+02  \n",
       "Elapsed              7.147872e+08  1.033949e+09  1.294790e+09  1.521158e+09  "
      ]
     },
     "execution_count": 16,
     "metadata": {},
     "output_type": "execute_result"
    }
   ],
   "source": [
    "data_raw = data_raw.sort_index()\n",
    "data_raw.describe().T"
   ]
  },
  {
   "cell_type": "code",
   "execution_count": 17,
   "metadata": {},
   "outputs": [],
   "source": [
    "data_raw = data_raw.dropna()"
   ]
  },
  {
   "cell_type": "code",
   "execution_count": 18,
   "metadata": {
    "hidden": true
   },
   "outputs": [],
   "source": [
    "del data_raw['Elapsed']\n",
    "del data_raw['Year']"
   ]
  },
  {
   "cell_type": "code",
   "execution_count": 19,
   "metadata": {
    "hidden": true
   },
   "outputs": [],
   "source": [
    "train_cats(data_raw)"
   ]
  },
  {
   "cell_type": "markdown",
   "metadata": {
    "hidden": true
   },
   "source": [
    "But let's save this file for now, since it's already in format can we be stored and accessed efficiently."
   ]
  },
  {
   "cell_type": "code",
   "execution_count": 20,
   "metadata": {},
   "outputs": [],
   "source": [
    "file_name = f'data/tmp/{STAMP}-gain-raw'"
   ]
  },
  {
   "cell_type": "code",
   "execution_count": 21,
   "metadata": {
    "hidden": true
   },
   "outputs": [],
   "source": [
    "os.makedirs('data/tmp', exist_ok=True)\n",
    "data_raw = data_raw.reset_index()\n",
    "data_raw.to_feather(file_name)"
   ]
  },
  {
   "cell_type": "markdown",
   "metadata": {
    "heading_collapsed": true
   },
   "source": [
    "### Pre-processing"
   ]
  },
  {
   "cell_type": "markdown",
   "metadata": {
    "hidden": true
   },
   "source": [
    "In the future we can simply read it from this fast format."
   ]
  },
  {
   "cell_type": "code",
   "execution_count": 22,
   "metadata": {
    "hidden": true
   },
   "outputs": [],
   "source": [
    "df_raw = pd.read_feather(file_name)"
   ]
  },
  {
   "cell_type": "code",
   "execution_count": 23,
   "metadata": {},
   "outputs": [],
   "source": [
    "df_raw = df_raw.set_index('Date')"
   ]
  },
  {
   "cell_type": "markdown",
   "metadata": {
    "hidden": true
   },
   "source": [
    "We'll replace categories with their numeric codes, handle missing continuous values, and split the dependent variable into a separate variable."
   ]
  },
  {
   "cell_type": "code",
   "execution_count": 24,
   "metadata": {},
   "outputs": [],
   "source": [
    "dep_col = 'Gain +1d'"
   ]
  },
  {
   "cell_type": "code",
   "execution_count": 25,
   "metadata": {},
   "outputs": [],
   "source": [
    "#train_start = '1990-01'\n",
    "train_end = '2016-02'\n",
    "valid_start = '2016-03'\n",
    "valid_end = '2017-02'\n",
    "test_start = '2017-03'"
   ]
  },
  {
   "cell_type": "code",
   "execution_count": 26,
   "metadata": {
    "hidden": true
   },
   "outputs": [],
   "source": [
    "df, y, nas = proc_df(df_raw, dep_col)"
   ]
  },
  {
   "cell_type": "code",
   "execution_count": 27,
   "metadata": {},
   "outputs": [
    {
     "name": "stdout",
     "output_type": "stream",
     "text": [
      "train, valid, test sizes: 50694, 2016, 2112\n"
     ]
    }
   ],
   "source": [
    "df_train = df[:train_end]\n",
    "df_valid = df[valid_start : valid_end]\n",
    "df_test = df[test_start:]\n",
    "print(f'train, valid, test sizes: {len(df_train)}, {len(df_valid)}, {len(df_test)}')"
   ]
  },
  {
   "cell_type": "code",
   "execution_count": 28,
   "metadata": {},
   "outputs": [
    {
     "name": "stdout",
     "output_type": "stream",
     "text": [
      "train, valid, test sizes: 50694, 2016, 2112\n"
     ]
    }
   ],
   "source": [
    "X_train = df_train\n",
    "X_valid = df_valid\n",
    "X_test = df_test\n",
    "print(f'train, valid, test sizes: {len(X_train)}, {len(X_valid)}, {len(X_test)}')"
   ]
  },
  {
   "cell_type": "code",
   "execution_count": 29,
   "metadata": {},
   "outputs": [
    {
     "data": {
      "text/plain": [
       "(array([ True, False, False, ..., False, False, False]), '2016-02')"
      ]
     },
     "execution_count": 29,
     "metadata": {},
     "output_type": "execute_result"
    }
   ],
   "source": [
    "y, train_end"
   ]
  },
  {
   "cell_type": "code",
   "execution_count": 30,
   "metadata": {},
   "outputs": [
    {
     "name": "stdout",
     "output_type": "stream",
     "text": [
      "train, valid, test sizes: 50694, 2016, 2112\n"
     ]
    }
   ],
   "source": [
    "y_train = y[:len(X_train)]\n",
    "y_valid = y[len(X_train)+1 : -len(X_test)+1]\n",
    "y_test = y[-len(X_test):]\n",
    "print(f'train, valid, test sizes: {len(y_train)}, {len(y_valid)}, {len(y_test)}')"
   ]
  },
  {
   "cell_type": "markdown",
   "metadata": {},
   "source": [
    "# Random Forests"
   ]
  },
  {
   "cell_type": "markdown",
   "metadata": {
    "heading_collapsed": true
   },
   "source": [
    "## Base model"
   ]
  },
  {
   "cell_type": "markdown",
   "metadata": {
    "hidden": true
   },
   "source": [
    "Let's try our model again, this time with separate training and validation sets."
   ]
  },
  {
   "cell_type": "code",
   "execution_count": 31,
   "metadata": {
    "hidden": true
   },
   "outputs": [],
   "source": [
    "def rmse(x,y): return math.sqrt(((x-y)**2).mean())\n",
    "\n",
    "def print_score(m):\n",
    "    res = [m.score(X_train, y_train), m.score(X_valid, y_valid)]\n",
    "    if hasattr(m, 'oob_score_'): res.append(m.oob_score_)\n",
    "    print(res)"
   ]
  },
  {
   "cell_type": "code",
   "execution_count": 32,
   "metadata": {},
   "outputs": [
    {
     "name": "stdout",
     "output_type": "stream",
     "text": [
      "[0.8444194579240146, 0.4781746031746032, 0.5389197932694204]\n"
     ]
    }
   ],
   "source": [
    "m = RandomForestClassifier(n_estimators=100, min_samples_leaf=30, max_features='log2', n_jobs=-1, oob_score=True, random_state=42)\n",
    "m.fit(X_train, y_train)\n",
    "print_score(m)"
   ]
  },
  {
   "cell_type": "code",
   "execution_count": 33,
   "metadata": {},
   "outputs": [
    {
     "data": {
      "text/plain": [
       "array([[496, 414],\n",
       "       [638, 468]], dtype=int64)"
      ]
     },
     "execution_count": 33,
     "metadata": {},
     "output_type": "execute_result"
    }
   ],
   "source": [
    "y_pred = m.predict(X_valid)\n",
    "cnf_matrix = metrics.confusion_matrix(y_valid, y_pred)\n",
    "cnf_matrix"
   ]
  },
  {
   "cell_type": "code",
   "execution_count": 34,
   "metadata": {},
   "outputs": [],
   "source": [
    "def plot_metrics(metrics): return metrics.plot('cols', 'imp', 'barh', figsize=(12,7), legend=False)"
   ]
  },
  {
   "cell_type": "code",
   "execution_count": 35,
   "metadata": {},
   "outputs": [],
   "source": [
    "def get_metrics(stamp, y_valid, y_pred, chance) :\n",
    "    col = ['accuracy', 'precision','recall','f1','chance']\n",
    "    val = []\n",
    "    val.append(metrics.accuracy_score(y_valid, y_pred))\n",
    "    val.append(metrics.precision_score(y_valid, y_pred))\n",
    "    val.append(metrics.recall_score(y_valid, y_pred))\n",
    "    val.append(metrics.f1_score(y_valid, y_pred))\n",
    "    val.append(chance)\n",
    "    \n",
    "    return pd.DataFrame(data=[val], columns=col, index=[stamp])"
   ]
  },
  {
   "cell_type": "code",
   "execution_count": 36,
   "metadata": {},
   "outputs": [],
   "source": [
    "# Percent of true gains over all samples: compare to precision -- precision should be signficantly higher if this is a useful\n",
    "# prediction\n",
    "# (cnf_matrix[1,0] + cnf_matrix[1,1]) / cnf_matrix.sum() \n",
    "chance = cnf_matrix[1:].sum() / cnf_matrix.sum()"
   ]
  },
  {
   "cell_type": "code",
   "execution_count": 37,
   "metadata": {},
   "outputs": [],
   "source": [
    "met = get_metrics(STAMP, y_valid, y_pred, chance)"
   ]
  },
  {
   "cell_type": "code",
   "execution_count": 38,
   "metadata": {},
   "outputs": [
    {
     "data": {
      "text/html": [
       "<div>\n",
       "<style scoped>\n",
       "    .dataframe tbody tr th:only-of-type {\n",
       "        vertical-align: middle;\n",
       "    }\n",
       "\n",
       "    .dataframe tbody tr th {\n",
       "        vertical-align: top;\n",
       "    }\n",
       "\n",
       "    .dataframe thead th {\n",
       "        text-align: right;\n",
       "    }\n",
       "</style>\n",
       "<table border=\"1\" class=\"dataframe\">\n",
       "  <thead>\n",
       "    <tr style=\"text-align: right;\">\n",
       "      <th></th>\n",
       "      <th>accuracy</th>\n",
       "      <th>precision</th>\n",
       "      <th>recall</th>\n",
       "      <th>f1</th>\n",
       "      <th>chance</th>\n",
       "    </tr>\n",
       "  </thead>\n",
       "  <tbody>\n",
       "    <tr>\n",
       "      <th>20180319-1120</th>\n",
       "      <td>0.478175</td>\n",
       "      <td>0.530612</td>\n",
       "      <td>0.423146</td>\n",
       "      <td>0.470825</td>\n",
       "      <td>0.548611</td>\n",
       "    </tr>\n",
       "  </tbody>\n",
       "</table>\n",
       "</div>"
      ],
      "text/plain": [
       "               accuracy  precision    recall        f1    chance\n",
       "20180319-1120  0.478175   0.530612  0.423146  0.470825  0.548611"
      ]
     },
     "execution_count": 38,
     "metadata": {},
     "output_type": "execute_result"
    },
    {
     "data": {
      "image/png": "[encoded data removed]",
      "text/plain": [
       "<Figure size 360x216 with 1 Axes>"
      ]
     },
     "metadata": {},
     "output_type": "display_data"
    }
   ],
   "source": [
    "met.T.plot(kind='barh', figsize=(5,3), xlim=(0,1))\n",
    "met"
   ]
  },
  {
   "cell_type": "code",
   "execution_count": 39,
   "metadata": {},
   "outputs": [],
   "source": [
    "fi = rf_feat_importance(m, df)"
   ]
  },
  {
   "cell_type": "code",
   "execution_count": 40,
   "metadata": {},
   "outputs": [],
   "source": [
    "def plot_fi(fi): return fi.plot('cols', 'imp', 'barh', figsize=(12,12), legend=False)"
   ]
  },
  {
   "cell_type": "code",
   "execution_count": 41,
   "metadata": {},
   "outputs": [
    {
     "data": {
      "text/plain": [
       "<matplotlib.axes._subplots.AxesSubplot at 0x2c954ac0208>"
      ]
     },
     "execution_count": 41,
     "metadata": {},
     "output_type": "execute_result"
    },
    {
     "data": {
      "image/png": "[encoded data removed]",
      "text/plain": [
       "<Figure size 864x864 with 1 Axes>"
      ]
     },
     "metadata": {},
     "output_type": "display_data"
    }
   ],
   "source": [
    "plot_fi(fi)"
   ]
  },
  {
   "cell_type": "markdown",
   "metadata": {},
   "source": [
    "### Confidence"
   ]
  },
  {
   "cell_type": "code",
   "execution_count": 42,
   "metadata": {},
   "outputs": [
    {
     "name": "stdout",
     "output_type": "stream",
     "text": [
      "Wall time: 2.63 s\n"
     ]
    },
    {
     "data": {
      "text/plain": [
       "(0.35, 0.4769696007084727)"
      ]
     },
     "execution_count": 42,
     "metadata": {},
     "output_type": "execute_result"
    }
   ],
   "source": [
    "%time preds = np.stack([t.predict(X_valid) for t in m.estimators_])\n",
    "np.mean(preds[:,0]), np.std(preds[:,0])"
   ]
  },
  {
   "cell_type": "code",
   "execution_count": 43,
   "metadata": {},
   "outputs": [],
   "source": [
    "x = df_valid.copy()\n",
    "x['pred_std'] = np.std(preds, axis=0)\n",
    "x['pred'] = np.mean(preds, axis=0)"
   ]
  },
  {
   "cell_type": "code",
   "execution_count": 44,
   "metadata": {},
   "outputs": [],
   "source": [
    "x['Gain +1d'] = y_valid"
   ]
  },
  {
   "cell_type": "code",
   "execution_count": 45,
   "metadata": {},
   "outputs": [
    {
     "name": "stdout",
     "output_type": "stream",
     "text": [
      "24 0.5416666666666666\n"
     ]
    }
   ],
   "source": [
    "conf_gain = x.loc[x['pred'] >= 0.7]\n",
    "conf_gain = pd.DataFrame(conf_gain, columns=['Ticker','pred','pred_std', 'Gain +1d'])\n",
    "print(f\"{len(conf_gain)} {len(conf_gain.loc[conf_gain['Gain +1d'] == True])/len(conf_gain)}\")"
   ]
  },
  {
   "cell_type": "code",
   "execution_count": 46,
   "metadata": {},
   "outputs": [
    {
     "data": {
      "text/html": [
       "<div>\n",
       "<style scoped>\n",
       "    .dataframe tbody tr th:only-of-type {\n",
       "        vertical-align: middle;\n",
       "    }\n",
       "\n",
       "    .dataframe tbody tr th {\n",
       "        vertical-align: top;\n",
       "    }\n",
       "\n",
       "    .dataframe thead th {\n",
       "        text-align: right;\n",
       "    }\n",
       "</style>\n",
       "<table border=\"1\" class=\"dataframe\">\n",
       "  <thead>\n",
       "    <tr style=\"text-align: right;\">\n",
       "      <th></th>\n",
       "      <th>Ticker</th>\n",
       "      <th>pred</th>\n",
       "      <th>pred_std</th>\n",
       "      <th>Gain +1d</th>\n",
       "    </tr>\n",
       "    <tr>\n",
       "      <th>Date</th>\n",
       "      <th></th>\n",
       "      <th></th>\n",
       "      <th></th>\n",
       "      <th></th>\n",
       "    </tr>\n",
       "  </thead>\n",
       "  <tbody>\n",
       "    <tr>\n",
       "      <th>2016-03-11</th>\n",
       "      <td>7</td>\n",
       "      <td>0.70</td>\n",
       "      <td>0.458258</td>\n",
       "      <td>True</td>\n",
       "    </tr>\n",
       "    <tr>\n",
       "      <th>2016-04-15</th>\n",
       "      <td>5</td>\n",
       "      <td>0.70</td>\n",
       "      <td>0.458258</td>\n",
       "      <td>True</td>\n",
       "    </tr>\n",
       "    <tr>\n",
       "      <th>2016-04-15</th>\n",
       "      <td>6</td>\n",
       "      <td>0.71</td>\n",
       "      <td>0.453762</td>\n",
       "      <td>True</td>\n",
       "    </tr>\n",
       "    <tr>\n",
       "      <th>2016-04-20</th>\n",
       "      <td>8</td>\n",
       "      <td>0.72</td>\n",
       "      <td>0.448999</td>\n",
       "      <td>True</td>\n",
       "    </tr>\n",
       "    <tr>\n",
       "      <th>2016-04-28</th>\n",
       "      <td>5</td>\n",
       "      <td>0.71</td>\n",
       "      <td>0.453762</td>\n",
       "      <td>False</td>\n",
       "    </tr>\n",
       "    <tr>\n",
       "      <th>2016-04-28</th>\n",
       "      <td>4</td>\n",
       "      <td>0.74</td>\n",
       "      <td>0.438634</td>\n",
       "      <td>False</td>\n",
       "    </tr>\n",
       "    <tr>\n",
       "      <th>2016-07-08</th>\n",
       "      <td>8</td>\n",
       "      <td>0.75</td>\n",
       "      <td>0.433013</td>\n",
       "      <td>True</td>\n",
       "    </tr>\n",
       "    <tr>\n",
       "      <th>2016-07-08</th>\n",
       "      <td>3</td>\n",
       "      <td>0.77</td>\n",
       "      <td>0.420833</td>\n",
       "      <td>True</td>\n",
       "    </tr>\n",
       "    <tr>\n",
       "      <th>2016-07-08</th>\n",
       "      <td>6</td>\n",
       "      <td>0.74</td>\n",
       "      <td>0.438634</td>\n",
       "      <td>True</td>\n",
       "    </tr>\n",
       "    <tr>\n",
       "      <th>2016-07-08</th>\n",
       "      <td>2</td>\n",
       "      <td>0.80</td>\n",
       "      <td>0.400000</td>\n",
       "      <td>True</td>\n",
       "    </tr>\n",
       "    <tr>\n",
       "      <th>2016-07-13</th>\n",
       "      <td>8</td>\n",
       "      <td>0.70</td>\n",
       "      <td>0.458258</td>\n",
       "      <td>False</td>\n",
       "    </tr>\n",
       "    <tr>\n",
       "      <th>2016-07-15</th>\n",
       "      <td>6</td>\n",
       "      <td>0.78</td>\n",
       "      <td>0.414246</td>\n",
       "      <td>True</td>\n",
       "    </tr>\n",
       "    <tr>\n",
       "      <th>2016-07-15</th>\n",
       "      <td>8</td>\n",
       "      <td>0.75</td>\n",
       "      <td>0.433013</td>\n",
       "      <td>True</td>\n",
       "    </tr>\n",
       "    <tr>\n",
       "      <th>2016-08-05</th>\n",
       "      <td>1</td>\n",
       "      <td>0.73</td>\n",
       "      <td>0.443959</td>\n",
       "      <td>True</td>\n",
       "    </tr>\n",
       "    <tr>\n",
       "      <th>2016-08-05</th>\n",
       "      <td>7</td>\n",
       "      <td>0.72</td>\n",
       "      <td>0.448999</td>\n",
       "      <td>False</td>\n",
       "    </tr>\n",
       "    <tr>\n",
       "      <th>2016-08-05</th>\n",
       "      <td>6</td>\n",
       "      <td>0.75</td>\n",
       "      <td>0.433013</td>\n",
       "      <td>False</td>\n",
       "    </tr>\n",
       "    <tr>\n",
       "      <th>2016-08-15</th>\n",
       "      <td>7</td>\n",
       "      <td>0.75</td>\n",
       "      <td>0.433013</td>\n",
       "      <td>False</td>\n",
       "    </tr>\n",
       "    <tr>\n",
       "      <th>2016-09-06</th>\n",
       "      <td>7</td>\n",
       "      <td>0.72</td>\n",
       "      <td>0.448999</td>\n",
       "      <td>False</td>\n",
       "    </tr>\n",
       "    <tr>\n",
       "      <th>2016-09-16</th>\n",
       "      <td>4</td>\n",
       "      <td>0.74</td>\n",
       "      <td>0.438634</td>\n",
       "      <td>False</td>\n",
       "    </tr>\n",
       "    <tr>\n",
       "      <th>2016-09-30</th>\n",
       "      <td>2</td>\n",
       "      <td>0.70</td>\n",
       "      <td>0.458258</td>\n",
       "      <td>True</td>\n",
       "    </tr>\n",
       "    <tr>\n",
       "      <th>2016-10-13</th>\n",
       "      <td>1</td>\n",
       "      <td>0.70</td>\n",
       "      <td>0.458258</td>\n",
       "      <td>False</td>\n",
       "    </tr>\n",
       "    <tr>\n",
       "      <th>2016-10-14</th>\n",
       "      <td>1</td>\n",
       "      <td>0.75</td>\n",
       "      <td>0.433013</td>\n",
       "      <td>False</td>\n",
       "    </tr>\n",
       "    <tr>\n",
       "      <th>2016-11-11</th>\n",
       "      <td>3</td>\n",
       "      <td>0.73</td>\n",
       "      <td>0.443959</td>\n",
       "      <td>False</td>\n",
       "    </tr>\n",
       "    <tr>\n",
       "      <th>2017-02-03</th>\n",
       "      <td>1</td>\n",
       "      <td>0.78</td>\n",
       "      <td>0.414246</td>\n",
       "      <td>True</td>\n",
       "    </tr>\n",
       "  </tbody>\n",
       "</table>\n",
       "</div>"
      ],
      "text/plain": [
       "            Ticker  pred  pred_std  Gain +1d\n",
       "Date                                        \n",
       "2016-03-11       7  0.70  0.458258      True\n",
       "2016-04-15       5  0.70  0.458258      True\n",
       "2016-04-15       6  0.71  0.453762      True\n",
       "2016-04-20       8  0.72  0.448999      True\n",
       "2016-04-28       5  0.71  0.453762     False\n",
       "2016-04-28       4  0.74  0.438634     False\n",
       "2016-07-08       8  0.75  0.433013      True\n",
       "2016-07-08       3  0.77  0.420833      True\n",
       "2016-07-08       6  0.74  0.438634      True\n",
       "2016-07-08       2  0.80  0.400000      True\n",
       "2016-07-13       8  0.70  0.458258     False\n",
       "2016-07-15       6  0.78  0.414246      True\n",
       "2016-07-15       8  0.75  0.433013      True\n",
       "2016-08-05       1  0.73  0.443959      True\n",
       "2016-08-05       7  0.72  0.448999     False\n",
       "2016-08-05       6  0.75  0.433013     False\n",
       "2016-08-15       7  0.75  0.433013     False\n",
       "2016-09-06       7  0.72  0.448999     False\n",
       "2016-09-16       4  0.74  0.438634     False\n",
       "2016-09-30       2  0.70  0.458258      True\n",
       "2016-10-13       1  0.70  0.458258     False\n",
       "2016-10-14       1  0.75  0.433013     False\n",
       "2016-11-11       3  0.73  0.443959     False\n",
       "2017-02-03       1  0.78  0.414246      True"
      ]
     },
     "execution_count": 46,
     "metadata": {},
     "output_type": "execute_result"
    }
   ],
   "source": [
    "conf_gain"
   ]
  },
  {
   "cell_type": "code",
   "execution_count": null,
   "metadata": {},
   "outputs": [],
   "source": []
  }
 ],
 "metadata": {
  "kernelspec": {
   "display_name": "Python 3",
   "language": "python",
   "name": "python3"
  },
  "language_info": {
   "codemirror_mode": {
    "name": "ipython",
    "version": 3
   },
   "file_extension": ".py",
   "mimetype": "text/x-python",
   "name": "python",
   "nbconvert_exporter": "python",
   "pygments_lexer": "ipython3",
   "version": "3.6.4"
  },
  "toc": {
   "colors": {
    "hover_highlight": "#DAA520",
    "navigate_num": "#000000",
    "navigate_text": "#333333",
    "running_highlight": "#FF0000",
    "selected_highlight": "#FFD700",
    "sidebar_border": "#EEEEEE",
    "wrapper_background": "#FFFFFF"
   },
   "moveMenuLeft": true,
   "nav_menu": {
    "height": "512px",
    "width": "252px"
   },
   "navigate_menu": true,
   "number_sections": true,
   "sideBar": true,
   "threshold": 4,
   "toc_cell": false,
   "toc_section_display": "block",
   "toc_window_display": false,
   "widenNotebook": false
  }
 },
 "nbformat": 4,
 "nbformat_minor": 2
}
