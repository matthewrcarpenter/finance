{
 "cells": [
  {
   "cell_type": "code",
   "execution_count": 4,
   "metadata": {},
   "outputs": [],
   "source": [
    "# Put these at the top of every notebook, to get automatic reloading and inline plotting\n",
    "%reload_ext autoreload\n",
    "%autoreload 2\n",
    "%matplotlib inline"
   ]
  },
  {
   "cell_type": "code",
   "execution_count": 5,
   "metadata": {},
   "outputs": [],
   "source": [
    "import matplotlib.pyplot as plt\n",
    "\n",
    "# Change the plot size.\n",
    "plt.rcParams['figure.figsize'] = [18.0, 12.0]"
   ]
  },
  {
   "cell_type": "code",
   "execution_count": 6,
   "metadata": {},
   "outputs": [],
   "source": [
    "import pandas as pd\n",
    "import numpy as np\n",
    "import datetime as dt"
   ]
  },
  {
   "cell_type": "code",
   "execution_count": 7,
   "metadata": {},
   "outputs": [],
   "source": [
    "from pandas_summary import DataFrameSummary"
   ]
  },
  {
   "cell_type": "code",
   "execution_count": 8,
   "metadata": {
    "scrolled": true
   },
   "outputs": [],
   "source": [
    "# import my Finance Analysis Tools (fat)\n",
    "import finance as fat"
   ]
  },
  {
   "cell_type": "code",
   "execution_count": 9,
   "metadata": {},
   "outputs": [],
   "source": [
    "# full imports of fastai fail on windows, so just import some of it for now\n",
    "from fastai.structured import add_datepart, apply_cats, proc_df"
   ]
  },
  {
   "cell_type": "markdown",
   "metadata": {},
   "source": [
    "<b>Don't run this on windows, only on paperspace..."
   ]
  },
  {
   "cell_type": "code",
   "execution_count": 10,
   "metadata": {},
   "outputs": [],
   "source": [
    "from fastai.structured import *\n",
    "from fastai.column_data import *\n",
    "np.set_printoptions(threshold=50, edgeitems=20)"
   ]
  },
  {
   "cell_type": "markdown",
   "metadata": {},
   "source": [
    "from fastai.structured import *\n",
    "from fastai.column_data import *\n",
    "np.set_printoptions(threshold=50, edgeitems=20)"
   ]
  },
  {
   "cell_type": "markdown",
   "metadata": {},
   "source": [
    "### Create Data"
   ]
  },
  {
   "cell_type": "markdown",
   "metadata": {},
   "source": [
    "Load a ticker to get a realistic date index"
   ]
  },
  {
   "cell_type": "code",
   "execution_count": 409,
   "metadata": {},
   "outputs": [],
   "source": [
    "TICKER = 'IAU'\n",
    "PATH = f'data/{TICKER}-test'"
   ]
  },
  {
   "cell_type": "code",
   "execution_count": 410,
   "metadata": {},
   "outputs": [
    {
     "name": "stdout",
     "output_type": "stream",
     "text": [
      "Loaded data for IAU: 2005-01-28 to 2018-02-26.\n"
     ]
    },
    {
     "data": {
      "text/html": [
       "<div>\n",
       "<style scoped>\n",
       "    .dataframe tbody tr th:only-of-type {\n",
       "        vertical-align: middle;\n",
       "    }\n",
       "\n",
       "    .dataframe tbody tr th {\n",
       "        vertical-align: top;\n",
       "    }\n",
       "\n",
       "    .dataframe thead th {\n",
       "        text-align: right;\n",
       "    }\n",
       "</style>\n",
       "<table border=\"1\" class=\"dataframe\">\n",
       "  <thead>\n",
       "    <tr style=\"text-align: right;\">\n",
       "      <th></th>\n",
       "      <th>Open</th>\n",
       "      <th>High</th>\n",
       "      <th>Low</th>\n",
       "      <th>Close</th>\n",
       "      <th>Adj Close</th>\n",
       "      <th>Volume</th>\n",
       "    </tr>\n",
       "    <tr>\n",
       "      <th>Date</th>\n",
       "      <th></th>\n",
       "      <th></th>\n",
       "      <th></th>\n",
       "      <th></th>\n",
       "      <th></th>\n",
       "      <th></th>\n",
       "    </tr>\n",
       "  </thead>\n",
       "  <tbody>\n",
       "    <tr>\n",
       "      <th>2005-01-28</th>\n",
       "      <td>4.273</td>\n",
       "      <td>4.273</td>\n",
       "      <td>4.246</td>\n",
       "      <td>4.269</td>\n",
       "      <td>4.269</td>\n",
       "      <td>5777000</td>\n",
       "    </tr>\n",
       "    <tr>\n",
       "      <th>2005-01-31</th>\n",
       "      <td>4.223</td>\n",
       "      <td>4.231</td>\n",
       "      <td>4.199</td>\n",
       "      <td>4.227</td>\n",
       "      <td>4.227</td>\n",
       "      <td>1519000</td>\n",
       "    </tr>\n",
       "    <tr>\n",
       "      <th>2005-02-01</th>\n",
       "      <td>4.211</td>\n",
       "      <td>4.214</td>\n",
       "      <td>4.197</td>\n",
       "      <td>4.212</td>\n",
       "      <td>4.212</td>\n",
       "      <td>695000</td>\n",
       "    </tr>\n",
       "    <tr>\n",
       "      <th>2005-02-02</th>\n",
       "      <td>4.223</td>\n",
       "      <td>4.223</td>\n",
       "      <td>4.204</td>\n",
       "      <td>4.223</td>\n",
       "      <td>4.223</td>\n",
       "      <td>2993000</td>\n",
       "    </tr>\n",
       "    <tr>\n",
       "      <th>2005-02-03</th>\n",
       "      <td>4.158</td>\n",
       "      <td>4.174</td>\n",
       "      <td>4.151</td>\n",
       "      <td>4.172</td>\n",
       "      <td>4.172</td>\n",
       "      <td>1068000</td>\n",
       "    </tr>\n",
       "  </tbody>\n",
       "</table>\n",
       "</div>"
      ],
      "text/plain": [
       "             Open   High    Low  Close  Adj Close   Volume\n",
       "Date                                                      \n",
       "2005-01-28  4.273  4.273  4.246  4.269      4.269  5777000\n",
       "2005-01-31  4.223  4.231  4.199  4.227      4.227  1519000\n",
       "2005-02-01  4.211  4.214  4.197  4.212      4.212   695000\n",
       "2005-02-02  4.223  4.223  4.204  4.223      4.223  2993000\n",
       "2005-02-03  4.158  4.174  4.151  4.172      4.172  1068000"
      ]
     },
     "execution_count": 410,
     "metadata": {},
     "output_type": "execute_result"
    }
   ],
   "source": [
    "data = fat.get_price_data(TICKER)\n",
    "data.head()"
   ]
  },
  {
   "cell_type": "code",
   "execution_count": 411,
   "metadata": {},
   "outputs": [
    {
     "data": {
      "text/plain": [
       "<matplotlib.axes._subplots.AxesSubplot at 0x7f3225e26438>"
      ]
     },
     "execution_count": 411,
     "metadata": {},
     "output_type": "execute_result"
    },
    {
     "data": {
      "image/png": "[encoded data removed]",
      "text/plain": [
       "<matplotlib.figure.Figure at 0x7f3226610358>"
      ]
     },
     "metadata": {},
     "output_type": "display_data"
    }
   ],
   "source": [
    "data['Adj Close'].plot()"
   ]
  },
  {
   "cell_type": "code",
   "execution_count": 412,
   "metadata": {},
   "outputs": [
    {
     "data": {
      "text/html": [
       "<div>\n",
       "<style scoped>\n",
       "    .dataframe tbody tr th:only-of-type {\n",
       "        vertical-align: middle;\n",
       "    }\n",
       "\n",
       "    .dataframe tbody tr th {\n",
       "        vertical-align: top;\n",
       "    }\n",
       "\n",
       "    .dataframe thead th {\n",
       "        text-align: right;\n",
       "    }\n",
       "</style>\n",
       "<table border=\"1\" class=\"dataframe\">\n",
       "  <thead>\n",
       "    <tr style=\"text-align: right;\">\n",
       "      <th></th>\n",
       "      <th>Date</th>\n",
       "      <th>Open</th>\n",
       "      <th>High</th>\n",
       "      <th>Low</th>\n",
       "      <th>Close</th>\n",
       "      <th>Adj Close</th>\n",
       "      <th>Volume</th>\n",
       "    </tr>\n",
       "  </thead>\n",
       "  <tbody>\n",
       "    <tr>\n",
       "      <th>0</th>\n",
       "      <td>2005-01-28</td>\n",
       "      <td>4.273</td>\n",
       "      <td>4.273</td>\n",
       "      <td>4.246</td>\n",
       "      <td>4.269</td>\n",
       "      <td>4.269</td>\n",
       "      <td>5777000</td>\n",
       "    </tr>\n",
       "    <tr>\n",
       "      <th>1</th>\n",
       "      <td>2005-01-31</td>\n",
       "      <td>4.223</td>\n",
       "      <td>4.231</td>\n",
       "      <td>4.199</td>\n",
       "      <td>4.227</td>\n",
       "      <td>4.227</td>\n",
       "      <td>1519000</td>\n",
       "    </tr>\n",
       "    <tr>\n",
       "      <th>2</th>\n",
       "      <td>2005-02-01</td>\n",
       "      <td>4.211</td>\n",
       "      <td>4.214</td>\n",
       "      <td>4.197</td>\n",
       "      <td>4.212</td>\n",
       "      <td>4.212</td>\n",
       "      <td>695000</td>\n",
       "    </tr>\n",
       "    <tr>\n",
       "      <th>3</th>\n",
       "      <td>2005-02-02</td>\n",
       "      <td>4.223</td>\n",
       "      <td>4.223</td>\n",
       "      <td>4.204</td>\n",
       "      <td>4.223</td>\n",
       "      <td>4.223</td>\n",
       "      <td>2993000</td>\n",
       "    </tr>\n",
       "    <tr>\n",
       "      <th>4</th>\n",
       "      <td>2005-02-03</td>\n",
       "      <td>4.158</td>\n",
       "      <td>4.174</td>\n",
       "      <td>4.151</td>\n",
       "      <td>4.172</td>\n",
       "      <td>4.172</td>\n",
       "      <td>1068000</td>\n",
       "    </tr>\n",
       "  </tbody>\n",
       "</table>\n",
       "</div>"
      ],
      "text/plain": [
       "        Date   Open   High    Low  Close  Adj Close   Volume\n",
       "0 2005-01-28  4.273  4.273  4.246  4.269      4.269  5777000\n",
       "1 2005-01-31  4.223  4.231  4.199  4.227      4.227  1519000\n",
       "2 2005-02-01  4.211  4.214  4.197  4.212      4.212   695000\n",
       "3 2005-02-02  4.223  4.223  4.204  4.223      4.223  2993000\n",
       "4 2005-02-03  4.158  4.174  4.151  4.172      4.172  1068000"
      ]
     },
     "execution_count": 412,
     "metadata": {},
     "output_type": "execute_result"
    }
   ],
   "source": [
    "data = data.reset_index()\n",
    "data.head()"
   ]
  },
  {
   "cell_type": "code",
   "execution_count": 413,
   "metadata": {},
   "outputs": [
    {
     "data": {
      "text/html": [
       "<div>\n",
       "<style scoped>\n",
       "    .dataframe tbody tr th:only-of-type {\n",
       "        vertical-align: middle;\n",
       "    }\n",
       "\n",
       "    .dataframe tbody tr th {\n",
       "        vertical-align: top;\n",
       "    }\n",
       "\n",
       "    .dataframe thead th {\n",
       "        text-align: right;\n",
       "    }\n",
       "</style>\n",
       "<table border=\"1\" class=\"dataframe\">\n",
       "  <thead>\n",
       "    <tr style=\"text-align: right;\">\n",
       "      <th></th>\n",
       "      <th>Date</th>\n",
       "      <th>Open</th>\n",
       "      <th>High</th>\n",
       "      <th>Low</th>\n",
       "      <th>Close</th>\n",
       "      <th>Adj Close</th>\n",
       "      <th>Volume</th>\n",
       "      <th>Adj Close -2d</th>\n",
       "      <th>Adj Close -1d</th>\n",
       "    </tr>\n",
       "  </thead>\n",
       "  <tbody>\n",
       "    <tr>\n",
       "      <th>0</th>\n",
       "      <td>2005-01-28</td>\n",
       "      <td>4.273</td>\n",
       "      <td>4.273</td>\n",
       "      <td>4.246</td>\n",
       "      <td>4.269</td>\n",
       "      <td>4.269</td>\n",
       "      <td>5777000</td>\n",
       "      <td>NaN</td>\n",
       "      <td>NaN</td>\n",
       "    </tr>\n",
       "    <tr>\n",
       "      <th>1</th>\n",
       "      <td>2005-01-31</td>\n",
       "      <td>4.223</td>\n",
       "      <td>4.231</td>\n",
       "      <td>4.199</td>\n",
       "      <td>4.227</td>\n",
       "      <td>4.227</td>\n",
       "      <td>1519000</td>\n",
       "      <td>NaN</td>\n",
       "      <td>4.269</td>\n",
       "    </tr>\n",
       "    <tr>\n",
       "      <th>2</th>\n",
       "      <td>2005-02-01</td>\n",
       "      <td>4.211</td>\n",
       "      <td>4.214</td>\n",
       "      <td>4.197</td>\n",
       "      <td>4.212</td>\n",
       "      <td>4.212</td>\n",
       "      <td>695000</td>\n",
       "      <td>4.269</td>\n",
       "      <td>4.227</td>\n",
       "    </tr>\n",
       "    <tr>\n",
       "      <th>3</th>\n",
       "      <td>2005-02-02</td>\n",
       "      <td>4.223</td>\n",
       "      <td>4.223</td>\n",
       "      <td>4.204</td>\n",
       "      <td>4.223</td>\n",
       "      <td>4.223</td>\n",
       "      <td>2993000</td>\n",
       "      <td>4.227</td>\n",
       "      <td>4.212</td>\n",
       "    </tr>\n",
       "    <tr>\n",
       "      <th>4</th>\n",
       "      <td>2005-02-03</td>\n",
       "      <td>4.158</td>\n",
       "      <td>4.174</td>\n",
       "      <td>4.151</td>\n",
       "      <td>4.172</td>\n",
       "      <td>4.172</td>\n",
       "      <td>1068000</td>\n",
       "      <td>4.212</td>\n",
       "      <td>4.223</td>\n",
       "    </tr>\n",
       "  </tbody>\n",
       "</table>\n",
       "</div>"
      ],
      "text/plain": [
       "        Date   Open   High    Low  Close  Adj Close   Volume  Adj Close -2d  \\\n",
       "0 2005-01-28  4.273  4.273  4.246  4.269      4.269  5777000            NaN   \n",
       "1 2005-01-31  4.223  4.231  4.199  4.227      4.227  1519000            NaN   \n",
       "2 2005-02-01  4.211  4.214  4.197  4.212      4.212   695000          4.269   \n",
       "3 2005-02-02  4.223  4.223  4.204  4.223      4.223  2993000          4.227   \n",
       "4 2005-02-03  4.158  4.174  4.151  4.172      4.172  1068000          4.212   \n",
       "\n",
       "   Adj Close -1d  \n",
       "0            NaN  \n",
       "1          4.269  \n",
       "2          4.227  \n",
       "3          4.212  \n",
       "4          4.223  "
      ]
     },
     "execution_count": 413,
     "metadata": {},
     "output_type": "execute_result"
    }
   ],
   "source": [
    "for i in range(-2, 0, 1) :\n",
    "    data[f'Adj Close {i}d'] = data['Adj Close'].shift(-i)\n",
    "data.head()"
   ]
  },
  {
   "cell_type": "code",
   "execution_count": 414,
   "metadata": {},
   "outputs": [],
   "source": [
    "del data['Open']\n",
    "del data['Low']\n",
    "del data['High']\n",
    "del data['Close']\n",
    "del data['Volume']"
   ]
  },
  {
   "cell_type": "code",
   "execution_count": 415,
   "metadata": {},
   "outputs": [],
   "source": [
    "#data['Open'] = data['Adj Close -1d']\n",
    "#data['Low'] = data['Open']\n",
    "#data['High'] = data['Adj Close']\n",
    "#data['Close'] = data['Adj Close']\n",
    "#data['Volume'] = 0"
   ]
  },
  {
   "cell_type": "code",
   "execution_count": 416,
   "metadata": {},
   "outputs": [
    {
     "data": {
      "text/html": [
       "<div>\n",
       "<style scoped>\n",
       "    .dataframe tbody tr th:only-of-type {\n",
       "        vertical-align: middle;\n",
       "    }\n",
       "\n",
       "    .dataframe tbody tr th {\n",
       "        vertical-align: top;\n",
       "    }\n",
       "\n",
       "    .dataframe thead th {\n",
       "        text-align: right;\n",
       "    }\n",
       "</style>\n",
       "<table border=\"1\" class=\"dataframe\">\n",
       "  <thead>\n",
       "    <tr style=\"text-align: right;\">\n",
       "      <th></th>\n",
       "      <th>Adj Close</th>\n",
       "      <th>Adj Close -2d</th>\n",
       "      <th>Adj Close -1d</th>\n",
       "    </tr>\n",
       "    <tr>\n",
       "      <th>Date</th>\n",
       "      <th></th>\n",
       "      <th></th>\n",
       "      <th></th>\n",
       "    </tr>\n",
       "  </thead>\n",
       "  <tbody>\n",
       "    <tr>\n",
       "      <th>2005-02-01</th>\n",
       "      <td>4.212</td>\n",
       "      <td>4.269</td>\n",
       "      <td>4.227</td>\n",
       "    </tr>\n",
       "    <tr>\n",
       "      <th>2005-02-02</th>\n",
       "      <td>4.223</td>\n",
       "      <td>4.227</td>\n",
       "      <td>4.212</td>\n",
       "    </tr>\n",
       "    <tr>\n",
       "      <th>2005-02-03</th>\n",
       "      <td>4.172</td>\n",
       "      <td>4.212</td>\n",
       "      <td>4.223</td>\n",
       "    </tr>\n",
       "    <tr>\n",
       "      <th>2005-02-04</th>\n",
       "      <td>4.150</td>\n",
       "      <td>4.223</td>\n",
       "      <td>4.172</td>\n",
       "    </tr>\n",
       "    <tr>\n",
       "      <th>2005-02-07</th>\n",
       "      <td>4.135</td>\n",
       "      <td>4.172</td>\n",
       "      <td>4.150</td>\n",
       "    </tr>\n",
       "  </tbody>\n",
       "</table>\n",
       "</div>"
      ],
      "text/plain": [
       "            Adj Close  Adj Close -2d  Adj Close -1d\n",
       "Date                                               \n",
       "2005-02-01      4.212          4.269          4.227\n",
       "2005-02-02      4.223          4.227          4.212\n",
       "2005-02-03      4.172          4.212          4.223\n",
       "2005-02-04      4.150          4.223          4.172\n",
       "2005-02-07      4.135          4.172          4.150"
      ]
     },
     "execution_count": 416,
     "metadata": {},
     "output_type": "execute_result"
    }
   ],
   "source": [
    "data = data.set_index('Date')\n",
    "data = data.dropna()\n",
    "data.head()"
   ]
  },
  {
   "cell_type": "markdown",
   "metadata": {},
   "source": [
    "## Create Features"
   ]
  },
  {
   "cell_type": "code",
   "execution_count": 417,
   "metadata": {},
   "outputs": [],
   "source": [
    "#data = fat.create_dl_features_df(data)"
   ]
  },
  {
   "cell_type": "code",
   "execution_count": 418,
   "metadata": {},
   "outputs": [
    {
     "data": {
      "text/html": [
       "<div>\n",
       "<style scoped>\n",
       "    .dataframe tbody tr th:only-of-type {\n",
       "        vertical-align: middle;\n",
       "    }\n",
       "\n",
       "    .dataframe tbody tr th {\n",
       "        vertical-align: top;\n",
       "    }\n",
       "\n",
       "    .dataframe thead th {\n",
       "        text-align: right;\n",
       "    }\n",
       "</style>\n",
       "<table border=\"1\" class=\"dataframe\">\n",
       "  <thead>\n",
       "    <tr style=\"text-align: right;\">\n",
       "      <th>Date</th>\n",
       "      <th>2018-02-06 00:00:00</th>\n",
       "      <th>2018-02-07 00:00:00</th>\n",
       "      <th>2018-02-08 00:00:00</th>\n",
       "      <th>2018-02-09 00:00:00</th>\n",
       "      <th>2018-02-12 00:00:00</th>\n",
       "      <th>2018-02-13 00:00:00</th>\n",
       "      <th>2018-02-14 00:00:00</th>\n",
       "      <th>2018-02-15 00:00:00</th>\n",
       "      <th>2018-02-16 00:00:00</th>\n",
       "      <th>2018-02-20 00:00:00</th>\n",
       "      <th>2018-02-21 00:00:00</th>\n",
       "      <th>2018-02-22 00:00:00</th>\n",
       "      <th>2018-02-23 00:00:00</th>\n",
       "      <th>2018-02-26 00:00:00</th>\n",
       "    </tr>\n",
       "  </thead>\n",
       "  <tbody>\n",
       "    <tr>\n",
       "      <th>Adj Close</th>\n",
       "      <td>12.69</td>\n",
       "      <td>12.62</td>\n",
       "      <td>12.65</td>\n",
       "      <td>12.63</td>\n",
       "      <td>12.68</td>\n",
       "      <td>12.76</td>\n",
       "      <td>12.98</td>\n",
       "      <td>12.99</td>\n",
       "      <td>12.95</td>\n",
       "      <td>12.77</td>\n",
       "      <td>12.71</td>\n",
       "      <td>12.79</td>\n",
       "      <td>12.77</td>\n",
       "      <td>12.79</td>\n",
       "    </tr>\n",
       "    <tr>\n",
       "      <th>Adj Close -2d</th>\n",
       "      <td>12.80</td>\n",
       "      <td>12.85</td>\n",
       "      <td>12.69</td>\n",
       "      <td>12.62</td>\n",
       "      <td>12.65</td>\n",
       "      <td>12.63</td>\n",
       "      <td>12.68</td>\n",
       "      <td>12.76</td>\n",
       "      <td>12.98</td>\n",
       "      <td>12.99</td>\n",
       "      <td>12.95</td>\n",
       "      <td>12.77</td>\n",
       "      <td>12.71</td>\n",
       "      <td>12.79</td>\n",
       "    </tr>\n",
       "    <tr>\n",
       "      <th>Adj Close -1d</th>\n",
       "      <td>12.85</td>\n",
       "      <td>12.69</td>\n",
       "      <td>12.62</td>\n",
       "      <td>12.65</td>\n",
       "      <td>12.63</td>\n",
       "      <td>12.68</td>\n",
       "      <td>12.76</td>\n",
       "      <td>12.98</td>\n",
       "      <td>12.99</td>\n",
       "      <td>12.95</td>\n",
       "      <td>12.77</td>\n",
       "      <td>12.71</td>\n",
       "      <td>12.79</td>\n",
       "      <td>12.77</td>\n",
       "    </tr>\n",
       "  </tbody>\n",
       "</table>\n",
       "</div>"
      ],
      "text/plain": [
       "Date           2018-02-06  2018-02-07  2018-02-08  2018-02-09  2018-02-12  \\\n",
       "Adj Close           12.69       12.62       12.65       12.63       12.68   \n",
       "Adj Close -2d       12.80       12.85       12.69       12.62       12.65   \n",
       "Adj Close -1d       12.85       12.69       12.62       12.65       12.63   \n",
       "\n",
       "Date           2018-02-13  2018-02-14  2018-02-15  2018-02-16  2018-02-20  \\\n",
       "Adj Close           12.76       12.98       12.99       12.95       12.77   \n",
       "Adj Close -2d       12.63       12.68       12.76       12.98       12.99   \n",
       "Adj Close -1d       12.68       12.76       12.98       12.99       12.95   \n",
       "\n",
       "Date           2018-02-21  2018-02-22  2018-02-23  2018-02-26  \n",
       "Adj Close           12.71       12.79       12.77       12.79  \n",
       "Adj Close -2d       12.95       12.77       12.71       12.79  \n",
       "Adj Close -1d       12.77       12.71       12.79       12.77  "
      ]
     },
     "execution_count": 418,
     "metadata": {},
     "output_type": "execute_result"
    }
   ],
   "source": [
    "data = data.dropna()\n",
    "data[-14:].T"
   ]
  },
  {
   "cell_type": "markdown",
   "metadata": {},
   "source": [
    "We're going to try to predict 'Adj Close' price tomorrow, so add a column with that info."
   ]
  },
  {
   "cell_type": "code",
   "execution_count": 419,
   "metadata": {},
   "outputs": [
    {
     "data": {
      "text/html": [
       "<div>\n",
       "<style scoped>\n",
       "    .dataframe tbody tr th:only-of-type {\n",
       "        vertical-align: middle;\n",
       "    }\n",
       "\n",
       "    .dataframe tbody tr th {\n",
       "        vertical-align: top;\n",
       "    }\n",
       "\n",
       "    .dataframe thead th {\n",
       "        text-align: right;\n",
       "    }\n",
       "</style>\n",
       "<table border=\"1\" class=\"dataframe\">\n",
       "  <thead>\n",
       "    <tr style=\"text-align: right;\">\n",
       "      <th>Date</th>\n",
       "      <th>2005-02-01 00:00:00</th>\n",
       "      <th>2005-02-02 00:00:00</th>\n",
       "      <th>2005-02-03 00:00:00</th>\n",
       "      <th>2005-02-04 00:00:00</th>\n",
       "      <th>2005-02-07 00:00:00</th>\n",
       "    </tr>\n",
       "  </thead>\n",
       "  <tbody>\n",
       "    <tr>\n",
       "      <th>Adj Close</th>\n",
       "      <td>4.212</td>\n",
       "      <td>4.223</td>\n",
       "      <td>4.172</td>\n",
       "      <td>4.15</td>\n",
       "      <td>4.135</td>\n",
       "    </tr>\n",
       "    <tr>\n",
       "      <th>Adj Close -2d</th>\n",
       "      <td>4.269</td>\n",
       "      <td>4.227</td>\n",
       "      <td>4.212</td>\n",
       "      <td>4.223</td>\n",
       "      <td>4.172</td>\n",
       "    </tr>\n",
       "    <tr>\n",
       "      <th>Adj Close -1d</th>\n",
       "      <td>4.227</td>\n",
       "      <td>4.212</td>\n",
       "      <td>4.223</td>\n",
       "      <td>4.172</td>\n",
       "      <td>4.15</td>\n",
       "    </tr>\n",
       "    <tr>\n",
       "      <th>Adj Close +1d</th>\n",
       "      <td>4.223</td>\n",
       "      <td>4.172</td>\n",
       "      <td>4.15</td>\n",
       "      <td>4.135</td>\n",
       "      <td>4.129</td>\n",
       "    </tr>\n",
       "    <tr>\n",
       "      <th>Closed Higher Than Prev Close</th>\n",
       "      <td>False</td>\n",
       "      <td>True</td>\n",
       "      <td>False</td>\n",
       "      <td>False</td>\n",
       "      <td>False</td>\n",
       "    </tr>\n",
       "  </tbody>\n",
       "</table>\n",
       "</div>"
      ],
      "text/plain": [
       "Date                          2005-02-01 2005-02-02 2005-02-03 2005-02-04  \\\n",
       "Adj Close                          4.212      4.223      4.172       4.15   \n",
       "Adj Close -2d                      4.269      4.227      4.212      4.223   \n",
       "Adj Close -1d                      4.227      4.212      4.223      4.172   \n",
       "Adj Close +1d                      4.223      4.172       4.15      4.135   \n",
       "Closed Higher Than Prev Close      False       True      False      False   \n",
       "\n",
       "Date                          2005-02-07  \n",
       "Adj Close                          4.135  \n",
       "Adj Close -2d                      4.172  \n",
       "Adj Close -1d                       4.15  \n",
       "Adj Close +1d                      4.129  \n",
       "Closed Higher Than Prev Close      False  "
      ]
     },
     "execution_count": 419,
     "metadata": {},
     "output_type": "execute_result"
    }
   ],
   "source": [
    "data['Adj Close +1d'] = data['Adj Close'].shift(-1)\n",
    "data['Closed Higher Than Prev Close'] = data['Adj Close'] > data['Adj Close -1d']\n",
    "#del data['Elapsed']\n",
    "data.head().T"
   ]
  },
  {
   "cell_type": "code",
   "execution_count": 420,
   "metadata": {},
   "outputs": [],
   "source": [
    "data = data.dropna()"
   ]
  },
  {
   "cell_type": "code",
   "execution_count": 421,
   "metadata": {},
   "outputs": [
    {
     "data": {
      "text/html": [
       "<div>\n",
       "<style scoped>\n",
       "    .dataframe tbody tr th:only-of-type {\n",
       "        vertical-align: middle;\n",
       "    }\n",
       "\n",
       "    .dataframe tbody tr th {\n",
       "        vertical-align: top;\n",
       "    }\n",
       "\n",
       "    .dataframe thead th {\n",
       "        text-align: right;\n",
       "    }\n",
       "</style>\n",
       "<table border=\"1\" class=\"dataframe\">\n",
       "  <thead>\n",
       "    <tr style=\"text-align: right;\">\n",
       "      <th></th>\n",
       "      <th>count</th>\n",
       "      <th>mean</th>\n",
       "      <th>std</th>\n",
       "      <th>min</th>\n",
       "      <th>25%</th>\n",
       "      <th>50%</th>\n",
       "      <th>75%</th>\n",
       "      <th>max</th>\n",
       "      <th>counts</th>\n",
       "      <th>uniques</th>\n",
       "      <th>missing</th>\n",
       "      <th>missing_perc</th>\n",
       "      <th>types</th>\n",
       "    </tr>\n",
       "  </thead>\n",
       "  <tbody>\n",
       "    <tr>\n",
       "      <th>Adj Close</th>\n",
       "      <td>3289</td>\n",
       "      <td>10.8684</td>\n",
       "      <td>3.45241</td>\n",
       "      <td>4.129</td>\n",
       "      <td>8.415</td>\n",
       "      <td>11.63</td>\n",
       "      <td>12.81</td>\n",
       "      <td>18.5</td>\n",
       "      <td>3289</td>\n",
       "      <td>1782</td>\n",
       "      <td>0</td>\n",
       "      <td>0%</td>\n",
       "      <td>numeric</td>\n",
       "    </tr>\n",
       "    <tr>\n",
       "      <th>Adj Close -2d</th>\n",
       "      <td>3289</td>\n",
       "      <td>10.8632</td>\n",
       "      <td>3.45594</td>\n",
       "      <td>4.129</td>\n",
       "      <td>8.391</td>\n",
       "      <td>11.63</td>\n",
       "      <td>12.81</td>\n",
       "      <td>18.5</td>\n",
       "      <td>3289</td>\n",
       "      <td>1784</td>\n",
       "      <td>0</td>\n",
       "      <td>0%</td>\n",
       "      <td>numeric</td>\n",
       "    </tr>\n",
       "    <tr>\n",
       "      <th>Adj Close -1d</th>\n",
       "      <td>3289</td>\n",
       "      <td>10.8658</td>\n",
       "      <td>3.45419</td>\n",
       "      <td>4.129</td>\n",
       "      <td>8.402</td>\n",
       "      <td>11.63</td>\n",
       "      <td>12.81</td>\n",
       "      <td>18.5</td>\n",
       "      <td>3289</td>\n",
       "      <td>1783</td>\n",
       "      <td>0</td>\n",
       "      <td>0%</td>\n",
       "      <td>numeric</td>\n",
       "    </tr>\n",
       "    <tr>\n",
       "      <th>Adj Close +1d</th>\n",
       "      <td>3289</td>\n",
       "      <td>10.871</td>\n",
       "      <td>3.45062</td>\n",
       "      <td>4.129</td>\n",
       "      <td>8.434</td>\n",
       "      <td>11.64</td>\n",
       "      <td>12.81</td>\n",
       "      <td>18.5</td>\n",
       "      <td>3289</td>\n",
       "      <td>1782</td>\n",
       "      <td>0</td>\n",
       "      <td>0%</td>\n",
       "      <td>numeric</td>\n",
       "    </tr>\n",
       "    <tr>\n",
       "      <th>Closed Higher Than Prev Close</th>\n",
       "      <td>NaN</td>\n",
       "      <td>NaN</td>\n",
       "      <td>NaN</td>\n",
       "      <td>NaN</td>\n",
       "      <td>NaN</td>\n",
       "      <td>NaN</td>\n",
       "      <td>NaN</td>\n",
       "      <td>NaN</td>\n",
       "      <td>3289</td>\n",
       "      <td>2</td>\n",
       "      <td>0</td>\n",
       "      <td>0%</td>\n",
       "      <td>bool</td>\n",
       "    </tr>\n",
       "  </tbody>\n",
       "</table>\n",
       "</div>"
      ],
      "text/plain": [
       "                              count     mean      std    min    25%    50%  \\\n",
       "Adj Close                      3289  10.8684  3.45241  4.129  8.415  11.63   \n",
       "Adj Close -2d                  3289  10.8632  3.45594  4.129  8.391  11.63   \n",
       "Adj Close -1d                  3289  10.8658  3.45419  4.129  8.402  11.63   \n",
       "Adj Close +1d                  3289   10.871  3.45062  4.129  8.434  11.64   \n",
       "Closed Higher Than Prev Close   NaN      NaN      NaN    NaN    NaN    NaN   \n",
       "\n",
       "                                 75%   max counts uniques missing  \\\n",
       "Adj Close                      12.81  18.5   3289    1782       0   \n",
       "Adj Close -2d                  12.81  18.5   3289    1784       0   \n",
       "Adj Close -1d                  12.81  18.5   3289    1783       0   \n",
       "Adj Close +1d                  12.81  18.5   3289    1782       0   \n",
       "Closed Higher Than Prev Close    NaN   NaN   3289       2       0   \n",
       "\n",
       "                              missing_perc    types  \n",
       "Adj Close                               0%  numeric  \n",
       "Adj Close -2d                           0%  numeric  \n",
       "Adj Close -1d                           0%  numeric  \n",
       "Adj Close +1d                           0%  numeric  \n",
       "Closed Higher Than Prev Close           0%     bool  "
      ]
     },
     "execution_count": 421,
     "metadata": {},
     "output_type": "execute_result"
    }
   ],
   "source": [
    "DataFrameSummary(data).summary().T"
   ]
  },
  {
   "cell_type": "code",
   "execution_count": 422,
   "metadata": {},
   "outputs": [
    {
     "data": {
      "text/plain": [
       "Index(['Adj Close', 'Adj Close -2d', 'Adj Close -1d', 'Adj Close +1d',\n",
       "       'Closed Higher Than Prev Close'],\n",
       "      dtype='object')"
      ]
     },
     "execution_count": 422,
     "metadata": {},
     "output_type": "execute_result"
    }
   ],
   "source": [
    "#del data['Year']\n",
    "#del data['Elapsed']\n",
    "data.columns"
   ]
  },
  {
   "cell_type": "markdown",
   "metadata": {},
   "source": [
    "Break the columns up into \"category variables\" and \"continuous variables\"."
   ]
  },
  {
   "cell_type": "code",
   "execution_count": 423,
   "metadata": {},
   "outputs": [],
   "source": [
    "cat_vars = ['Closed Higher Than Prev Close'] #'Days Since Trading', 'Days Until Trading', 'Month', 'Week', 'Day', 'Dayofweek', 'Dayofyear',\n",
    "            #'Is_month_end', 'Is_month_start', 'Is_quarter_end', 'Is_quarter_start', 'Is_year_end', 'Is_year_start']\n",
    "\n",
    "contin_vars = ['Adj Close', 'Adj Close -2d', 'Adj Close -1d'] \n",
    "              #['Open', 'High', 'Low', 'Close', 'Adj Close', 'Volume', 'Adj Close -10d',\n",
    "              # 'Adj Close -9d', 'Adj Close -8d', 'Adj Close -7d', 'Adj Close -6d', 'Adj Close -5d',\n",
    "              # 'Adj Close -4d', 'Adj Close -3d', 'Adj Close -2d', 'Adj Close -1d',\n",
    "              # 'Year']\n"
   ]
  },
  {
   "cell_type": "code",
   "execution_count": 424,
   "metadata": {},
   "outputs": [
    {
     "name": "stdout",
     "output_type": "stream",
     "text": [
      "len(cat_vars) = 1\n",
      "len(contin_vars) = 3\n",
      "len(data.columns) = 5\n"
     ]
    }
   ],
   "source": [
    "print(f'len(cat_vars) = {len(cat_vars)}')\n",
    "print(f'len(contin_vars) = {len(contin_vars)}')\n",
    "print(f'len(data.columns) = {len(data.columns)}')\n",
    "assert(len(data.columns) == (len(cat_vars) + len(contin_vars) + 1))"
   ]
  },
  {
   "cell_type": "markdown",
   "metadata": {},
   "source": [
    "Split data into train and test sets."
   ]
  },
  {
   "cell_type": "code",
   "execution_count": 425,
   "metadata": {},
   "outputs": [],
   "source": [
    "data_len = len(data)\n",
    "train_len = int(data_len * .8)\n",
    "data_train = data[:train_len].copy()\n",
    "data_test = data[train_len:].copy()"
   ]
  },
  {
   "cell_type": "code",
   "execution_count": 426,
   "metadata": {},
   "outputs": [],
   "source": [
    "dep = 'Adj Close +1d'\n",
    "data_train = data_train.reset_index()\n",
    "data_train = data_train[cat_vars+contin_vars+[dep, 'Date']].copy()"
   ]
  },
  {
   "cell_type": "code",
   "execution_count": 427,
   "metadata": {},
   "outputs": [
    {
     "data": {
      "text/html": [
       "<div>\n",
       "<style scoped>\n",
       "    .dataframe tbody tr th:only-of-type {\n",
       "        vertical-align: middle;\n",
       "    }\n",
       "\n",
       "    .dataframe tbody tr th {\n",
       "        vertical-align: top;\n",
       "    }\n",
       "\n",
       "    .dataframe thead th {\n",
       "        text-align: right;\n",
       "    }\n",
       "</style>\n",
       "<table border=\"1\" class=\"dataframe\">\n",
       "  <thead>\n",
       "    <tr style=\"text-align: right;\">\n",
       "      <th></th>\n",
       "      <th>2626</th>\n",
       "      <th>2627</th>\n",
       "      <th>2628</th>\n",
       "      <th>2629</th>\n",
       "      <th>2630</th>\n",
       "    </tr>\n",
       "  </thead>\n",
       "  <tbody>\n",
       "    <tr>\n",
       "      <th>Closed Higher Than Prev Close</th>\n",
       "      <td>True</td>\n",
       "      <td>True</td>\n",
       "      <td>False</td>\n",
       "      <td>False</td>\n",
       "      <td>False</td>\n",
       "    </tr>\n",
       "    <tr>\n",
       "      <th>Adj Close</th>\n",
       "      <td>11.23</td>\n",
       "      <td>11.24</td>\n",
       "      <td>11.2</td>\n",
       "      <td>11.17</td>\n",
       "      <td>11.1</td>\n",
       "    </tr>\n",
       "    <tr>\n",
       "      <th>Adj Close -2d</th>\n",
       "      <td>11.18</td>\n",
       "      <td>11.21</td>\n",
       "      <td>11.23</td>\n",
       "      <td>11.24</td>\n",
       "      <td>11.2</td>\n",
       "    </tr>\n",
       "    <tr>\n",
       "      <th>Adj Close -1d</th>\n",
       "      <td>11.21</td>\n",
       "      <td>11.23</td>\n",
       "      <td>11.24</td>\n",
       "      <td>11.2</td>\n",
       "      <td>11.17</td>\n",
       "    </tr>\n",
       "    <tr>\n",
       "      <th>Adj Close +1d</th>\n",
       "      <td>11.24</td>\n",
       "      <td>11.2</td>\n",
       "      <td>11.17</td>\n",
       "      <td>11.1</td>\n",
       "      <td>11.06</td>\n",
       "    </tr>\n",
       "    <tr>\n",
       "      <th>Date</th>\n",
       "      <td>2015-07-09 00:00:00</td>\n",
       "      <td>2015-07-10 00:00:00</td>\n",
       "      <td>2015-07-13 00:00:00</td>\n",
       "      <td>2015-07-14 00:00:00</td>\n",
       "      <td>2015-07-15 00:00:00</td>\n",
       "    </tr>\n",
       "  </tbody>\n",
       "</table>\n",
       "</div>"
      ],
      "text/plain": [
       "                                              2626                 2627  \\\n",
       "Closed Higher Than Prev Close                 True                 True   \n",
       "Adj Close                                    11.23                11.24   \n",
       "Adj Close -2d                                11.18                11.21   \n",
       "Adj Close -1d                                11.21                11.23   \n",
       "Adj Close +1d                                11.24                 11.2   \n",
       "Date                           2015-07-09 00:00:00  2015-07-10 00:00:00   \n",
       "\n",
       "                                              2628                 2629  \\\n",
       "Closed Higher Than Prev Close                False                False   \n",
       "Adj Close                                     11.2                11.17   \n",
       "Adj Close -2d                                11.23                11.24   \n",
       "Adj Close -1d                                11.24                 11.2   \n",
       "Adj Close +1d                                11.17                 11.1   \n",
       "Date                           2015-07-13 00:00:00  2015-07-14 00:00:00   \n",
       "\n",
       "                                              2630  \n",
       "Closed Higher Than Prev Close                False  \n",
       "Adj Close                                     11.1  \n",
       "Adj Close -2d                                 11.2  \n",
       "Adj Close -1d                                11.17  \n",
       "Adj Close +1d                                11.06  \n",
       "Date                           2015-07-15 00:00:00  "
      ]
     },
     "execution_count": 427,
     "metadata": {},
     "output_type": "execute_result"
    }
   ],
   "source": [
    "data_train.tail().T"
   ]
  },
  {
   "cell_type": "code",
   "execution_count": 428,
   "metadata": {},
   "outputs": [],
   "source": [
    "data_test[dep] = 0\n",
    "data_test = data_test.reset_index()\n",
    "data_test = data_test[cat_vars+contin_vars+[dep,'Date']].copy()"
   ]
  },
  {
   "cell_type": "code",
   "execution_count": 429,
   "metadata": {},
   "outputs": [
    {
     "data": {
      "text/html": [
       "<div>\n",
       "<style scoped>\n",
       "    .dataframe tbody tr th:only-of-type {\n",
       "        vertical-align: middle;\n",
       "    }\n",
       "\n",
       "    .dataframe tbody tr th {\n",
       "        vertical-align: top;\n",
       "    }\n",
       "\n",
       "    .dataframe thead th {\n",
       "        text-align: right;\n",
       "    }\n",
       "</style>\n",
       "<table border=\"1\" class=\"dataframe\">\n",
       "  <thead>\n",
       "    <tr style=\"text-align: right;\">\n",
       "      <th></th>\n",
       "      <th>0</th>\n",
       "      <th>1</th>\n",
       "      <th>2</th>\n",
       "      <th>3</th>\n",
       "      <th>4</th>\n",
       "    </tr>\n",
       "  </thead>\n",
       "  <tbody>\n",
       "    <tr>\n",
       "      <th>Closed Higher Than Prev Close</th>\n",
       "      <td>False</td>\n",
       "      <td>False</td>\n",
       "      <td>False</td>\n",
       "      <td>False</td>\n",
       "      <td>False</td>\n",
       "    </tr>\n",
       "    <tr>\n",
       "      <th>Adj Close</th>\n",
       "      <td>11.06</td>\n",
       "      <td>10.95</td>\n",
       "      <td>10.65</td>\n",
       "      <td>10.62</td>\n",
       "      <td>10.56</td>\n",
       "    </tr>\n",
       "    <tr>\n",
       "      <th>Adj Close -2d</th>\n",
       "      <td>11.17</td>\n",
       "      <td>11.1</td>\n",
       "      <td>11.06</td>\n",
       "      <td>10.95</td>\n",
       "      <td>10.65</td>\n",
       "    </tr>\n",
       "    <tr>\n",
       "      <th>Adj Close -1d</th>\n",
       "      <td>11.1</td>\n",
       "      <td>11.06</td>\n",
       "      <td>10.95</td>\n",
       "      <td>10.65</td>\n",
       "      <td>10.62</td>\n",
       "    </tr>\n",
       "    <tr>\n",
       "      <th>Adj Close +1d</th>\n",
       "      <td>0</td>\n",
       "      <td>0</td>\n",
       "      <td>0</td>\n",
       "      <td>0</td>\n",
       "      <td>0</td>\n",
       "    </tr>\n",
       "    <tr>\n",
       "      <th>Date</th>\n",
       "      <td>2015-07-16 00:00:00</td>\n",
       "      <td>2015-07-17 00:00:00</td>\n",
       "      <td>2015-07-20 00:00:00</td>\n",
       "      <td>2015-07-21 00:00:00</td>\n",
       "      <td>2015-07-22 00:00:00</td>\n",
       "    </tr>\n",
       "  </tbody>\n",
       "</table>\n",
       "</div>"
      ],
      "text/plain": [
       "                                                 0                    1  \\\n",
       "Closed Higher Than Prev Close                False                False   \n",
       "Adj Close                                    11.06                10.95   \n",
       "Adj Close -2d                                11.17                 11.1   \n",
       "Adj Close -1d                                 11.1                11.06   \n",
       "Adj Close +1d                                    0                    0   \n",
       "Date                           2015-07-16 00:00:00  2015-07-17 00:00:00   \n",
       "\n",
       "                                                 2                    3  \\\n",
       "Closed Higher Than Prev Close                False                False   \n",
       "Adj Close                                    10.65                10.62   \n",
       "Adj Close -2d                                11.06                10.95   \n",
       "Adj Close -1d                                10.95                10.65   \n",
       "Adj Close +1d                                    0                    0   \n",
       "Date                           2015-07-20 00:00:00  2015-07-21 00:00:00   \n",
       "\n",
       "                                                 4  \n",
       "Closed Higher Than Prev Close                False  \n",
       "Adj Close                                    10.56  \n",
       "Adj Close -2d                                10.65  \n",
       "Adj Close -1d                                10.62  \n",
       "Adj Close +1d                                    0  \n",
       "Date                           2015-07-22 00:00:00  "
      ]
     },
     "execution_count": 429,
     "metadata": {},
     "output_type": "execute_result"
    }
   ],
   "source": [
    "data_test.head().T"
   ]
  },
  {
   "cell_type": "code",
   "execution_count": 430,
   "metadata": {},
   "outputs": [],
   "source": [
    "data_train = data_train.dropna()\n",
    "data_test = data_test.dropna()"
   ]
  },
  {
   "cell_type": "code",
   "execution_count": 431,
   "metadata": {},
   "outputs": [],
   "source": [
    "for v in cat_vars: \n",
    "    data_train[v] = data_train[v].astype('category').cat.as_ordered()"
   ]
  },
  {
   "cell_type": "code",
   "execution_count": 432,
   "metadata": {},
   "outputs": [],
   "source": [
    "apply_cats(data_test, data_train)"
   ]
  },
  {
   "cell_type": "code",
   "execution_count": 433,
   "metadata": {},
   "outputs": [],
   "source": [
    "for v in contin_vars:\n",
    "    data_train[v] = data_train[v].astype('float32')\n",
    "    data_test[v] = data_test[v].astype('float32')"
   ]
  },
  {
   "cell_type": "code",
   "execution_count": 434,
   "metadata": {},
   "outputs": [
    {
     "data": {
      "text/html": [
       "<div>\n",
       "<style scoped>\n",
       "    .dataframe tbody tr th:only-of-type {\n",
       "        vertical-align: middle;\n",
       "    }\n",
       "\n",
       "    .dataframe tbody tr th {\n",
       "        vertical-align: top;\n",
       "    }\n",
       "\n",
       "    .dataframe thead th {\n",
       "        text-align: right;\n",
       "    }\n",
       "</style>\n",
       "<table border=\"1\" class=\"dataframe\">\n",
       "  <thead>\n",
       "    <tr style=\"text-align: right;\">\n",
       "      <th></th>\n",
       "      <th>count</th>\n",
       "      <th>mean</th>\n",
       "      <th>std</th>\n",
       "      <th>min</th>\n",
       "      <th>25%</th>\n",
       "      <th>50%</th>\n",
       "      <th>75%</th>\n",
       "      <th>max</th>\n",
       "      <th>counts</th>\n",
       "      <th>uniques</th>\n",
       "      <th>missing</th>\n",
       "      <th>missing_perc</th>\n",
       "      <th>types</th>\n",
       "    </tr>\n",
       "  </thead>\n",
       "  <tbody>\n",
       "    <tr>\n",
       "      <th>Closed Higher Than Prev Close</th>\n",
       "      <td>NaN</td>\n",
       "      <td>NaN</td>\n",
       "      <td>NaN</td>\n",
       "      <td>NaN</td>\n",
       "      <td>NaN</td>\n",
       "      <td>NaN</td>\n",
       "      <td>NaN</td>\n",
       "      <td>NaN</td>\n",
       "      <td>2631</td>\n",
       "      <td>2</td>\n",
       "      <td>0</td>\n",
       "      <td>0%</td>\n",
       "      <td>bool</td>\n",
       "    </tr>\n",
       "    <tr>\n",
       "      <th>Adj Close</th>\n",
       "      <td>2631</td>\n",
       "      <td>10.6161</td>\n",
       "      <td>3.80031</td>\n",
       "      <td>4.129</td>\n",
       "      <td>7.054</td>\n",
       "      <td>11.27</td>\n",
       "      <td>13.28</td>\n",
       "      <td>18.5</td>\n",
       "      <td>2631</td>\n",
       "      <td>1710</td>\n",
       "      <td>0</td>\n",
       "      <td>0%</td>\n",
       "      <td>numeric</td>\n",
       "    </tr>\n",
       "    <tr>\n",
       "      <th>Adj Close -2d</th>\n",
       "      <td>2631</td>\n",
       "      <td>10.6109</td>\n",
       "      <td>3.80434</td>\n",
       "      <td>4.129</td>\n",
       "      <td>7.0435</td>\n",
       "      <td>11.27</td>\n",
       "      <td>13.28</td>\n",
       "      <td>18.5</td>\n",
       "      <td>2631</td>\n",
       "      <td>1712</td>\n",
       "      <td>0</td>\n",
       "      <td>0%</td>\n",
       "      <td>numeric</td>\n",
       "    </tr>\n",
       "    <tr>\n",
       "      <th>Adj Close -1d</th>\n",
       "      <td>2631</td>\n",
       "      <td>10.6135</td>\n",
       "      <td>3.80234</td>\n",
       "      <td>4.129</td>\n",
       "      <td>7.053</td>\n",
       "      <td>11.27</td>\n",
       "      <td>13.28</td>\n",
       "      <td>18.5</td>\n",
       "      <td>2631</td>\n",
       "      <td>1711</td>\n",
       "      <td>0</td>\n",
       "      <td>0%</td>\n",
       "      <td>numeric</td>\n",
       "    </tr>\n",
       "    <tr>\n",
       "      <th>Adj Close +1d</th>\n",
       "      <td>2631</td>\n",
       "      <td>10.6187</td>\n",
       "      <td>3.79827</td>\n",
       "      <td>4.129</td>\n",
       "      <td>7.08</td>\n",
       "      <td>11.27</td>\n",
       "      <td>13.28</td>\n",
       "      <td>18.5</td>\n",
       "      <td>2631</td>\n",
       "      <td>1710</td>\n",
       "      <td>0</td>\n",
       "      <td>0%</td>\n",
       "      <td>numeric</td>\n",
       "    </tr>\n",
       "    <tr>\n",
       "      <th>Date</th>\n",
       "      <td>NaN</td>\n",
       "      <td>NaN</td>\n",
       "      <td>NaN</td>\n",
       "      <td>NaN</td>\n",
       "      <td>NaN</td>\n",
       "      <td>NaN</td>\n",
       "      <td>NaN</td>\n",
       "      <td>NaN</td>\n",
       "      <td>2631</td>\n",
       "      <td>2631</td>\n",
       "      <td>0</td>\n",
       "      <td>0%</td>\n",
       "      <td>date</td>\n",
       "    </tr>\n",
       "  </tbody>\n",
       "</table>\n",
       "</div>"
      ],
      "text/plain": [
       "                              count     mean      std    min     25%    50%  \\\n",
       "Closed Higher Than Prev Close   NaN      NaN      NaN    NaN     NaN    NaN   \n",
       "Adj Close                      2631  10.6161  3.80031  4.129   7.054  11.27   \n",
       "Adj Close -2d                  2631  10.6109  3.80434  4.129  7.0435  11.27   \n",
       "Adj Close -1d                  2631  10.6135  3.80234  4.129   7.053  11.27   \n",
       "Adj Close +1d                  2631  10.6187  3.79827  4.129    7.08  11.27   \n",
       "Date                            NaN      NaN      NaN    NaN     NaN    NaN   \n",
       "\n",
       "                                 75%   max counts uniques missing  \\\n",
       "Closed Higher Than Prev Close    NaN   NaN   2631       2       0   \n",
       "Adj Close                      13.28  18.5   2631    1710       0   \n",
       "Adj Close -2d                  13.28  18.5   2631    1712       0   \n",
       "Adj Close -1d                  13.28  18.5   2631    1711       0   \n",
       "Adj Close +1d                  13.28  18.5   2631    1710       0   \n",
       "Date                             NaN   NaN   2631    2631       0   \n",
       "\n",
       "                              missing_perc    types  \n",
       "Closed Higher Than Prev Close           0%     bool  \n",
       "Adj Close                               0%  numeric  \n",
       "Adj Close -2d                           0%  numeric  \n",
       "Adj Close -1d                           0%  numeric  \n",
       "Adj Close +1d                           0%  numeric  \n",
       "Date                                    0%     date  "
      ]
     },
     "execution_count": 434,
     "metadata": {},
     "output_type": "execute_result"
    }
   ],
   "source": [
    "DataFrameSummary(data_train).summary().T"
   ]
  },
  {
   "cell_type": "markdown",
   "metadata": {},
   "source": [
    "We can now process our data..."
   ]
  },
  {
   "cell_type": "code",
   "execution_count": 435,
   "metadata": {},
   "outputs": [],
   "source": [
    "# we get a AttributeError here if we don't have skip_flds = ['Date']\n",
    "data_train = data_train.set_index('Date')\n",
    "df_train, y, nas, mapper = proc_df(data_train, dep, do_scale=True)\n",
    "yl = np.log(y)"
   ]
  },
  {
   "cell_type": "code",
   "execution_count": 436,
   "metadata": {},
   "outputs": [
    {
     "data": {
      "text/html": [
       "<div>\n",
       "<style scoped>\n",
       "    .dataframe tbody tr th:only-of-type {\n",
       "        vertical-align: middle;\n",
       "    }\n",
       "\n",
       "    .dataframe tbody tr th {\n",
       "        vertical-align: top;\n",
       "    }\n",
       "\n",
       "    .dataframe thead th {\n",
       "        text-align: right;\n",
       "    }\n",
       "</style>\n",
       "<table border=\"1\" class=\"dataframe\">\n",
       "  <thead>\n",
       "    <tr style=\"text-align: right;\">\n",
       "      <th>Date</th>\n",
       "      <th>2005-02-01 00:00:00</th>\n",
       "      <th>2005-02-02 00:00:00</th>\n",
       "    </tr>\n",
       "  </thead>\n",
       "  <tbody>\n",
       "    <tr>\n",
       "      <th>Closed Higher Than Prev Close</th>\n",
       "      <td>1.000000</td>\n",
       "      <td>2.000000</td>\n",
       "    </tr>\n",
       "    <tr>\n",
       "      <th>Adj Close</th>\n",
       "      <td>-1.685475</td>\n",
       "      <td>-1.682580</td>\n",
       "    </tr>\n",
       "    <tr>\n",
       "      <th>Adj Close -2d</th>\n",
       "      <td>-1.667330</td>\n",
       "      <td>-1.678372</td>\n",
       "    </tr>\n",
       "    <tr>\n",
       "      <th>Adj Close -1d</th>\n",
       "      <td>-1.679943</td>\n",
       "      <td>-1.683888</td>\n",
       "    </tr>\n",
       "  </tbody>\n",
       "</table>\n",
       "</div>"
      ],
      "text/plain": [
       "Date                           2005-02-01  2005-02-02\n",
       "Closed Higher Than Prev Close    1.000000    2.000000\n",
       "Adj Close                       -1.685475   -1.682580\n",
       "Adj Close -2d                   -1.667330   -1.678372\n",
       "Adj Close -1d                   -1.679943   -1.683888"
      ]
     },
     "execution_count": 436,
     "metadata": {},
     "output_type": "execute_result"
    }
   ],
   "source": [
    "df_train.head(2).T"
   ]
  },
  {
   "cell_type": "markdown",
   "metadata": {},
   "source": [
    "In time series data, cross-validation is not random. Instead, our holdout data is generally the most recent data, as it would be in real application. This issue is discussed in detail in [this post](http://www.fast.ai/2017/11/13/validation-sets/) on our web site.\n",
    "\n",
    "One approach is to take the last 25% of rows (sorted by date) as our validation set."
   ]
  },
  {
   "cell_type": "code",
   "execution_count": 437,
   "metadata": {},
   "outputs": [],
   "source": [
    "train_ratio = 0.75\n",
    "data_size = len(df_train)\n",
    "train_size = int(data_size * train_ratio)\n",
    "val_idx = list(range(train_size, data_size))"
   ]
  },
  {
   "cell_type": "code",
   "execution_count": 438,
   "metadata": {},
   "outputs": [],
   "source": [
    "data_test = data_test.set_index('Date')\n",
    "df_test, _, nas, mapper = proc_df(data_test, dep, do_scale=True,\n",
    "                                  mapper=mapper, na_dict=nas)"
   ]
  },
  {
   "cell_type": "code",
   "execution_count": 439,
   "metadata": {},
   "outputs": [],
   "source": [
    "#joined = joined.dropna()\n",
    "#joined_test = joined_test.dropna()"
   ]
  },
  {
   "cell_type": "markdown",
   "metadata": {},
   "source": [
    "## Deep Learning"
   ]
  },
  {
   "cell_type": "markdown",
   "metadata": {},
   "source": [
    "We're ready to put together our models.\n",
    "\n",
    "Root-mean-squared percent error is the metric Kaggle used for this competition."
   ]
  },
  {
   "cell_type": "code",
   "execution_count": 440,
   "metadata": {},
   "outputs": [],
   "source": [
    "def inv_y(a): return np.exp(a)\n",
    "\n",
    "def exp_rmspe(y_pred, targ):\n",
    "    targ = inv_y(targ)\n",
    "    pct_var = (targ - inv_y(y_pred))/targ\n",
    "    return math.sqrt((pct_var**2).mean())\n",
    "\n",
    "max_log_y = np.max(yl)\n",
    "y_range = (0, max_log_y*1.2)"
   ]
  },
  {
   "cell_type": "markdown",
   "metadata": {},
   "source": [
    "We can create a ModelData object directly from out data frame."
   ]
  },
  {
   "cell_type": "code",
   "execution_count": 441,
   "metadata": {},
   "outputs": [],
   "source": [
    "# before: bs=128, changed to bs=8 to get results while finding learning rate\n",
    "md = ColumnarModelData.from_data_frame(PATH, val_idx, df_train, yl.astype(np.float32), cat_flds=cat_vars, bs=8,\n",
    "                                       test_df=df_test)"
   ]
  },
  {
   "cell_type": "markdown",
   "metadata": {},
   "source": [
    "Create categorical variables."
   ]
  },
  {
   "cell_type": "code",
   "execution_count": 442,
   "metadata": {},
   "outputs": [
    {
     "data": {
      "text/plain": [
       "[('Closed Higher Than Prev Close', 3)]"
      ]
     },
     "execution_count": 442,
     "metadata": {},
     "output_type": "execute_result"
    }
   ],
   "source": [
    "cat_sz = [(c, len(data_train[c].cat.categories)+1) for c in cat_vars]\n",
    "cat_sz"
   ]
  },
  {
   "cell_type": "markdown",
   "metadata": {},
   "source": [
    "We use the *cardinality* of each variable (that is, its number of unique values) to decide how large to make its *embeddings*. Each level will be associated with a vector with length defined as below."
   ]
  },
  {
   "cell_type": "code",
   "execution_count": 443,
   "metadata": {},
   "outputs": [
    {
     "data": {
      "text/plain": [
       "[(3, 2)]"
      ]
     },
     "execution_count": 443,
     "metadata": {},
     "output_type": "execute_result"
    }
   ],
   "source": [
    "emb_szs = [(c, min(50, (c+1)//2)) for _,c in cat_sz]\n",
    "emb_szs"
   ]
  },
  {
   "cell_type": "markdown",
   "metadata": {},
   "source": [
    "Find learning rate."
   ]
  },
  {
   "cell_type": "code",
   "execution_count": 444,
   "metadata": {},
   "outputs": [],
   "source": [
    "m = md.get_learner(emb_szs, len(df_train.columns)-len(cat_vars),\n",
    "                   0.04, 1, [1000,500], [0.001,0.01], y_range=y_range)\n",
    "lr = 1e-3"
   ]
  },
  {
   "cell_type": "code",
   "execution_count": 445,
   "metadata": {},
   "outputs": [
    {
     "data": {
      "application/vnd.jupyter.widget-view+json": {
       "model_id": "87e466ebaf614379b07d7d59c1f53e4f",
       "version_major": 2,
       "version_minor": 0
      },
      "text/html": [
       "<p>Failed to display Jupyter Widget of type <code>HBox</code>.</p>\n",
       "<p>\n",
       "  If you're reading this message in the Jupyter Notebook or JupyterLab Notebook, it may mean\n",
       "  that the widgets JavaScript is still loading. If this message persists, it\n",
       "  likely means that the widgets JavaScript library is either not installed or\n",
       "  not enabled. See the <a href=\"https://ipywidgets.readthedocs.io/en/stable/user_install.html\">Jupyter\n",
       "  Widgets Documentation</a> for setup instructions.\n",
       "</p>\n",
       "<p>\n",
       "  If you're reading this message in another frontend (for example, a static\n",
       "  rendering on GitHub or <a href=\"https://nbviewer.jupyter.org/\">NBViewer</a>),\n",
       "  it may mean that your frontend doesn't currently support widgets.\n",
       "</p>\n"
      ],
      "text/plain": [
       "HBox(children=(IntProgress(value=0, description='Epoch', max=1), HTML(value='')))"
      ]
     },
     "metadata": {},
     "output_type": "display_data"
    },
    {
     "name": "stdout",
     "output_type": "stream",
     "text": [
      "epoch      trn_loss   val_loss                                 \n",
      "    0      0.155589   0.390678  \n",
      "\n"
     ]
    }
   ],
   "source": [
    "m.lr_find(1e-7, 1e-2)"
   ]
  },
  {
   "cell_type": "code",
   "execution_count": 446,
   "metadata": {},
   "outputs": [
    {
     "data": {
      "image/png": "[encoded data removed]",
      "text/plain": [
       "<matplotlib.figure.Figure at 0x7f3225caaeb8>"
      ]
     },
     "metadata": {},
     "output_type": "display_data"
    }
   ],
   "source": [
    "m.sched.plot(100)"
   ]
  },
  {
   "cell_type": "markdown",
   "metadata": {},
   "source": [
    "### Sample"
   ]
  },
  {
   "cell_type": "code",
   "execution_count": 447,
   "metadata": {},
   "outputs": [],
   "source": [
    "m = md.get_learner(emb_szs, len(df_train.columns)-len(cat_vars),\n",
    "                   0.04, 1, [1000,500], [0.001,0.01], y_range=y_range)\n",
    "lr = 1e-4"
   ]
  },
  {
   "cell_type": "code",
   "execution_count": 448,
   "metadata": {},
   "outputs": [
    {
     "data": {
      "application/vnd.jupyter.widget-view+json": {
       "model_id": "6ad99d01855a464c92b6a256a9812927",
       "version_major": 2,
       "version_minor": 0
      },
      "text/html": [
       "<p>Failed to display Jupyter Widget of type <code>HBox</code>.</p>\n",
       "<p>\n",
       "  If you're reading this message in the Jupyter Notebook or JupyterLab Notebook, it may mean\n",
       "  that the widgets JavaScript is still loading. If this message persists, it\n",
       "  likely means that the widgets JavaScript library is either not installed or\n",
       "  not enabled. See the <a href=\"https://ipywidgets.readthedocs.io/en/stable/user_install.html\">Jupyter\n",
       "  Widgets Documentation</a> for setup instructions.\n",
       "</p>\n",
       "<p>\n",
       "  If you're reading this message in another frontend (for example, a static\n",
       "  rendering on GitHub or <a href=\"https://nbviewer.jupyter.org/\">NBViewer</a>),\n",
       "  it may mean that your frontend doesn't currently support widgets.\n",
       "</p>\n"
      ],
      "text/plain": [
       "HBox(children=(IntProgress(value=0, description='Epoch', max=3), HTML(value='')))"
      ]
     },
     "metadata": {},
     "output_type": "display_data"
    },
    {
     "name": "stdout",
     "output_type": "stream",
     "text": [
      "epoch      trn_loss   val_loss   exp_rmspe                     \n",
      "    0      0.010044   0.001433   0.0361    \n",
      "    1      0.012332   0.005455   0.068903                      \n",
      "    2      0.010619   0.002413   0.049301                       \n",
      "\n"
     ]
    },
    {
     "data": {
      "text/plain": [
       "[0.002413233, 0.04930145897398722]"
      ]
     },
     "execution_count": 448,
     "metadata": {},
     "output_type": "execute_result"
    }
   ],
   "source": [
    "m.fit(lr, 3, metrics=[exp_rmspe])"
   ]
  },
  {
   "cell_type": "code",
   "execution_count": 449,
   "metadata": {},
   "outputs": [
    {
     "data": {
      "application/vnd.jupyter.widget-view+json": {
       "model_id": "4a0a0b22f69547429d19bd3814f7cc88",
       "version_major": 2,
       "version_minor": 0
      },
      "text/html": [
       "<p>Failed to display Jupyter Widget of type <code>HBox</code>.</p>\n",
       "<p>\n",
       "  If you're reading this message in the Jupyter Notebook or JupyterLab Notebook, it may mean\n",
       "  that the widgets JavaScript is still loading. If this message persists, it\n",
       "  likely means that the widgets JavaScript library is either not installed or\n",
       "  not enabled. See the <a href=\"https://ipywidgets.readthedocs.io/en/stable/user_install.html\">Jupyter\n",
       "  Widgets Documentation</a> for setup instructions.\n",
       "</p>\n",
       "<p>\n",
       "  If you're reading this message in another frontend (for example, a static\n",
       "  rendering on GitHub or <a href=\"https://nbviewer.jupyter.org/\">NBViewer</a>),\n",
       "  it may mean that your frontend doesn't currently support widgets.\n",
       "</p>\n"
      ],
      "text/plain": [
       "HBox(children=(IntProgress(value=0, description='Epoch', max=3), HTML(value='')))"
      ]
     },
     "metadata": {},
     "output_type": "display_data"
    },
    {
     "name": "stdout",
     "output_type": "stream",
     "text": [
      "epoch      trn_loss   val_loss   exp_rmspe                      \n",
      "    0      0.005153   0.000246   0.015228  \n",
      "    1      0.00408    0.000223   0.014215                       \n",
      "    2      0.004254   0.000382   0.018438                       \n",
      "\n"
     ]
    },
    {
     "data": {
      "text/plain": [
       "[0.00038209048, 0.01843784120822987]"
      ]
     },
     "execution_count": 449,
     "metadata": {},
     "output_type": "execute_result"
    }
   ],
   "source": [
    "m.fit(lr, 3, metrics=[exp_rmspe], cycle_len=1)"
   ]
  },
  {
   "cell_type": "code",
   "execution_count": 450,
   "metadata": {},
   "outputs": [
    {
     "data": {
      "application/vnd.jupyter.widget-view+json": {
       "model_id": "02a85363e61547d3a3f3f0e860198e49",
       "version_major": 2,
       "version_minor": 0
      },
      "text/html": [
       "<p>Failed to display Jupyter Widget of type <code>HBox</code>.</p>\n",
       "<p>\n",
       "  If you're reading this message in the Jupyter Notebook or JupyterLab Notebook, it may mean\n",
       "  that the widgets JavaScript is still loading. If this message persists, it\n",
       "  likely means that the widgets JavaScript library is either not installed or\n",
       "  not enabled. See the <a href=\"https://ipywidgets.readthedocs.io/en/stable/user_install.html\">Jupyter\n",
       "  Widgets Documentation</a> for setup instructions.\n",
       "</p>\n",
       "<p>\n",
       "  If you're reading this message in another frontend (for example, a static\n",
       "  rendering on GitHub or <a href=\"https://nbviewer.jupyter.org/\">NBViewer</a>),\n",
       "  it may mean that your frontend doesn't currently support widgets.\n",
       "</p>\n"
      ],
      "text/plain": [
       "HBox(children=(IntProgress(value=0, description='Epoch', max=8), HTML(value='')))"
      ]
     },
     "metadata": {},
     "output_type": "display_data"
    },
    {
     "name": "stdout",
     "output_type": "stream",
     "text": [
      "epoch      trn_loss   val_loss   exp_rmspe                      \n",
      "    0      0.007175   0.000874   0.02632   \n",
      "    1      0.004759   0.000274   0.015669                       \n",
      "    2      0.002999   0.000191   0.012844                       \n",
      "    3      0.002396   0.000195   0.013479                       \n",
      "    4      0.00782    0.001242   0.0292                         \n",
      "    5      0.002687   0.000255   0.015424                       \n",
      "    6      0.001844   0.000178   0.012511                       \n",
      "    7      0.001463   0.000174   0.012326                       \n",
      "\n"
     ]
    },
    {
     "data": {
      "text/plain": [
       "[0.00017399741, 0.012326011224587315]"
      ]
     },
     "execution_count": 450,
     "metadata": {},
     "output_type": "execute_result"
    }
   ],
   "source": [
    "m.fit(lr, 2, metrics=[exp_rmspe], cycle_len=4)"
   ]
  },
  {
   "cell_type": "code",
   "execution_count": 326,
   "metadata": {},
   "outputs": [
    {
     "data": {
      "application/vnd.jupyter.widget-view+json": {
       "model_id": "61c41ae9f56d45909127bca852b65350",
       "version_major": 2,
       "version_minor": 0
      },
      "text/html": [
       "<p>Failed to display Jupyter Widget of type <code>HBox</code>.</p>\n",
       "<p>\n",
       "  If you're reading this message in the Jupyter Notebook or JupyterLab Notebook, it may mean\n",
       "  that the widgets JavaScript is still loading. If this message persists, it\n",
       "  likely means that the widgets JavaScript library is either not installed or\n",
       "  not enabled. See the <a href=\"https://ipywidgets.readthedocs.io/en/stable/user_install.html\">Jupyter\n",
       "  Widgets Documentation</a> for setup instructions.\n",
       "</p>\n",
       "<p>\n",
       "  If you're reading this message in another frontend (for example, a static\n",
       "  rendering on GitHub or <a href=\"https://nbviewer.jupyter.org/\">NBViewer</a>),\n",
       "  it may mean that your frontend doesn't currently support widgets.\n",
       "</p>\n"
      ],
      "text/plain": [
       "HBox(children=(IntProgress(value=0, description='Epoch', max=1), HTML(value='')))"
      ]
     },
     "metadata": {},
     "output_type": "display_data"
    },
    {
     "name": "stdout",
     "output_type": "stream",
     "text": [
      "epoch      trn_loss   val_loss   exp_rmspe                      \n",
      "    0      0.004      0.002275   0.036542  \n",
      "\n"
     ]
    },
    {
     "data": {
      "text/plain": [
       "[0.0022746043, 0.0365415237055794]"
      ]
     },
     "execution_count": 326,
     "metadata": {},
     "output_type": "execute_result"
    }
   ],
   "source": [
    "m.fit(lr, 1, metrics=[exp_rmspe])"
   ]
  },
  {
   "cell_type": "code",
   "execution_count": null,
   "metadata": {},
   "outputs": [],
   "source": [
    "m.save('val0')"
   ]
  },
  {
   "cell_type": "code",
   "execution_count": null,
   "metadata": {},
   "outputs": [],
   "source": [
    "m.load('val0')"
   ]
  },
  {
   "cell_type": "code",
   "execution_count": 451,
   "metadata": {},
   "outputs": [],
   "source": [
    "x,y=m.predict_with_targs()"
   ]
  },
  {
   "cell_type": "code",
   "execution_count": 452,
   "metadata": {},
   "outputs": [
    {
     "data": {
      "text/plain": [
       "0.013331149349906306"
      ]
     },
     "execution_count": 452,
     "metadata": {},
     "output_type": "execute_result"
    }
   ],
   "source": [
    "exp_rmspe(x,y)"
   ]
  },
  {
   "cell_type": "code",
   "execution_count": 453,
   "metadata": {},
   "outputs": [],
   "source": [
    "pred_test=m.predict(is_test=True)"
   ]
  },
  {
   "cell_type": "code",
   "execution_count": 454,
   "metadata": {},
   "outputs": [],
   "source": [
    "pred_test = np.exp(pred_test)"
   ]
  },
  {
   "cell_type": "code",
   "execution_count": 455,
   "metadata": {},
   "outputs": [],
   "source": [
    "data_test[dep]=pred_test"
   ]
  },
  {
   "cell_type": "code",
   "execution_count": 456,
   "metadata": {},
   "outputs": [],
   "source": [
    "# prediction are made for the next day ('Date'+1), so shift data so that date is proper date for value predicted \n",
    "#predict = pd.DataFrame(data_test[dep].shift(1))\n",
    "#predict.columns = [f'Predicted {TICKER} Price']\n",
    "#predict[f'Actual {TICKER} Price'] = data['Adj Close']\n",
    "#predict.dropna()\n",
    "#predict['Prediction Error'] = predict[0] - predict[1]"
   ]
  },
  {
   "cell_type": "code",
   "execution_count": 457,
   "metadata": {},
   "outputs": [],
   "source": [
    "predict = pd.DataFrame(data_test)"
   ]
  },
  {
   "cell_type": "code",
   "execution_count": 458,
   "metadata": {},
   "outputs": [],
   "source": [
    "filename = f'{PATH}/{TICKER}-predictions-{dt.datetime.now():%Y%m%d-%H%M%S}.csv'\n",
    "predict.to_csv(filename)"
   ]
  },
  {
   "cell_type": "code",
   "execution_count": 461,
   "metadata": {},
   "outputs": [
    {
     "data": {
      "text/plain": [
       "<matplotlib.axes._subplots.AxesSubplot at 0x7f3225b6cba8>"
      ]
     },
     "execution_count": 461,
     "metadata": {},
     "output_type": "execute_result"
    },
    {
     "data": {
      "image/png": "[encoded data removed]",
      "text/plain": [
       "<matplotlib.figure.Figure at 0x7f3225f247b8>"
      ]
     },
     "metadata": {},
     "output_type": "display_data"
    }
   ],
   "source": [
    "plot_data = pd.DataFrame(predict,columns=['Adj Close', 'Adj Close +1d'])\n",
    "plot_data['Predicted Close'] = predict['Adj Close +1d'].shift(1)\n",
    "del plot_data['Adj Close +1d']\n",
    "plot_data['2018'].plot()"
   ]
  },
  {
   "cell_type": "code",
   "execution_count": 76,
   "metadata": {},
   "outputs": [
    {
     "data": {
      "text/html": [
       "<div>\n",
       "<style scoped>\n",
       "    .dataframe tbody tr th:only-of-type {\n",
       "        vertical-align: middle;\n",
       "    }\n",
       "\n",
       "    .dataframe tbody tr th {\n",
       "        vertical-align: top;\n",
       "    }\n",
       "\n",
       "    .dataframe thead th {\n",
       "        text-align: right;\n",
       "    }\n",
       "</style>\n",
       "<table border=\"1\" class=\"dataframe\">\n",
       "  <thead>\n",
       "    <tr style=\"text-align: right;\">\n",
       "      <th></th>\n",
       "      <th>Adj Close</th>\n",
       "      <th>Adj Close +1d</th>\n",
       "      <th>Predicted Close</th>\n",
       "    </tr>\n",
       "    <tr>\n",
       "      <th>Date</th>\n",
       "      <th></th>\n",
       "      <th></th>\n",
       "      <th></th>\n",
       "    </tr>\n",
       "  </thead>\n",
       "  <tbody>\n",
       "    <tr>\n",
       "      <th>2018-02-16</th>\n",
       "      <td>12.95</td>\n",
       "      <td>12.824574</td>\n",
       "      <td>12.833479</td>\n",
       "    </tr>\n",
       "    <tr>\n",
       "      <th>2018-02-20</th>\n",
       "      <td>12.77</td>\n",
       "      <td>12.662870</td>\n",
       "      <td>12.824574</td>\n",
       "    </tr>\n",
       "    <tr>\n",
       "      <th>2018-02-21</th>\n",
       "      <td>12.71</td>\n",
       "      <td>12.562108</td>\n",
       "      <td>12.662870</td>\n",
       "    </tr>\n",
       "    <tr>\n",
       "      <th>2018-02-22</th>\n",
       "      <td>12.79</td>\n",
       "      <td>12.861712</td>\n",
       "      <td>12.562108</td>\n",
       "    </tr>\n",
       "    <tr>\n",
       "      <th>2018-02-23</th>\n",
       "      <td>12.77</td>\n",
       "      <td>12.773979</td>\n",
       "      <td>12.861712</td>\n",
       "    </tr>\n",
       "  </tbody>\n",
       "</table>\n",
       "</div>"
      ],
      "text/plain": [
       "            Adj Close  Adj Close +1d  Predicted Close\n",
       "Date                                                 \n",
       "2018-02-16      12.95      12.824574        12.833479\n",
       "2018-02-20      12.77      12.662870        12.824574\n",
       "2018-02-21      12.71      12.562108        12.662870\n",
       "2018-02-22      12.79      12.861712        12.562108\n",
       "2018-02-23      12.77      12.773979        12.861712"
      ]
     },
     "execution_count": 76,
     "metadata": {},
     "output_type": "execute_result"
    }
   ],
   "source": [
    "plot_data.tail()"
   ]
  },
  {
   "cell_type": "code",
   "execution_count": 397,
   "metadata": {},
   "outputs": [
    {
     "data": {
      "text/plain": [
       "MixedInputModel(\n",
       "  (embs): ModuleList(\n",
       "    (0): Embedding(2, 1)\n",
       "  )\n",
       "  (lins): ModuleList(\n",
       "    (0): Linear(in_features=12, out_features=1000, bias=True)\n",
       "    (1): Linear(in_features=1000, out_features=500, bias=True)\n",
       "  )\n",
       "  (bns): ModuleList(\n",
       "    (0): BatchNorm1d(1000, eps=1e-05, momentum=0.1, affine=True)\n",
       "    (1): BatchNorm1d(500, eps=1e-05, momentum=0.1, affine=True)\n",
       "  )\n",
       "  (outp): Linear(in_features=500, out_features=1, bias=True)\n",
       "  (emb_drop): Dropout(p=0.04)\n",
       "  (drops): ModuleList(\n",
       "    (0): Dropout(p=0.001)\n",
       "    (1): Dropout(p=0.01)\n",
       "  )\n",
       "  (bn): BatchNorm1d(11, eps=1e-05, momentum=0.1, affine=True)\n",
       ")"
      ]
     },
     "execution_count": 397,
     "metadata": {},
     "output_type": "execute_result"
    }
   ],
   "source": [
    "m\n"
   ]
  },
  {
   "cell_type": "code",
   "execution_count": 77,
   "metadata": {},
   "outputs": [
    {
     "ename": "NameError",
     "evalue": "name 'mean_squared_error' is not defined",
     "output_type": "error",
     "traceback": [
      "\u001b[0;31m---------------------------------------------------------------------------\u001b[0m",
      "\u001b[0;31mNameError\u001b[0m                                 Traceback (most recent call last)",
      "\u001b[0;32m<ipython-input-77-3a0f4f1f19bc>\u001b[0m in \u001b[0;36m<module>\u001b[0;34m()\u001b[0m\n\u001b[0;32m----> 1\u001b[0;31m \u001b[0mrmse\u001b[0m \u001b[0;34m=\u001b[0m \u001b[0mnp\u001b[0m\u001b[0;34m.\u001b[0m\u001b[0msqrt\u001b[0m\u001b[0;34m(\u001b[0m\u001b[0mmean_squared_error\u001b[0m\u001b[0;34m(\u001b[0m\u001b[0mpredict\u001b[0m\u001b[0;34m[\u001b[0m\u001b[0;36m0\u001b[0m\u001b[0;34m]\u001b[0m\u001b[0;34m,\u001b[0m \u001b[0mpredict\u001b[0m\u001b[0;34m[\u001b[0m\u001b[0;36m1\u001b[0m\u001b[0;34m]\u001b[0m\u001b[0;34m)\u001b[0m\u001b[0;34m)\u001b[0m\u001b[0;34m\u001b[0m\u001b[0m\n\u001b[0m\u001b[1;32m      2\u001b[0m \u001b[0mrmspe\u001b[0m \u001b[0;34m=\u001b[0m \u001b[0mrmse\u001b[0m \u001b[0;34m/\u001b[0m \u001b[0mlen\u001b[0m\u001b[0;34m(\u001b[0m\u001b[0mpredict\u001b[0m\u001b[0;34m)\u001b[0m\u001b[0;34m\u001b[0m\u001b[0m\n\u001b[1;32m      3\u001b[0m \u001b[0;31m#ex_rmspe = np.(rmspe)\u001b[0m\u001b[0;34m\u001b[0m\u001b[0;34m\u001b[0m\u001b[0m\n\u001b[1;32m      4\u001b[0m \u001b[0mprint\u001b[0m\u001b[0;34m(\u001b[0m\u001b[0;34mf'RMSE = {rmse}'\u001b[0m\u001b[0;34m)\u001b[0m\u001b[0;34m\u001b[0m\u001b[0m\n\u001b[1;32m      5\u001b[0m \u001b[0mprint\u001b[0m\u001b[0;34m(\u001b[0m\u001b[0;34mf'RMSPE = {rmspe}'\u001b[0m\u001b[0;34m)\u001b[0m\u001b[0;34m\u001b[0m\u001b[0m\n",
      "\u001b[0;31mNameError\u001b[0m: name 'mean_squared_error' is not defined"
     ]
    }
   ],
   "source": [
    "rmse = np.sqrt(mean_squared_error(predict[0], predict[1]))\n",
    "rmspe = rmse / len(predict)\n",
    "#ex_rmspe = np.(rmspe)\n",
    "print(f'RMSE = {rmse}')\n",
    "print(f'RMSPE = {rmspe}')\n",
    "#print(f'exp RMSPE = {ex_rmspe}')"
   ]
  },
  {
   "cell_type": "code",
   "execution_count": null,
   "metadata": {},
   "outputs": [],
   "source": []
  }
 ],
 "metadata": {
  "kernelspec": {
   "display_name": "Python 3",
   "language": "python",
   "name": "python3"
  },
  "language_info": {
   "codemirror_mode": {
    "name": "ipython",
    "version": 3
   },
   "file_extension": ".py",
   "mimetype": "text/x-python",
   "name": "python",
   "nbconvert_exporter": "python",
   "pygments_lexer": "ipython3",
   "version": "3.6.4"
  }
 },
 "nbformat": 4,
 "nbformat_minor": 1
}
