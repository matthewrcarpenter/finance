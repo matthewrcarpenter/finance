{
 "cells": [
  {
   "cell_type": "code",
   "execution_count": 141,
   "metadata": {
    "collapsed": true
   },
   "outputs": [],
   "source": [
    "from random import *"
   ]
  },
  {
   "cell_type": "markdown",
   "metadata": {},
   "source": [
    "Utility Functions"
   ]
  },
  {
   "cell_type": "code",
   "execution_count": 143,
   "metadata": {
    "collapsed": true
   },
   "outputs": [],
   "source": [
    "def int_string(n) :\n",
    "    raw = \"{0:d}\".format(n)\n",
    "    formatted = \"( \"\n",
    "    for digit in raw :\n",
    "        formatted = formatted + digit + \" \"\n",
    "        \n",
    "    formatted = formatted[:-1] + ' )'\n",
    "    return formatted "
   ]
  },
  {
   "cell_type": "code",
   "execution_count": 144,
   "metadata": {
    "collapsed": false
   },
   "outputs": [],
   "source": [
    "def get_full_mult_string(n, mult_list) :\n",
    "    a = mult_list[n][0]\n",
    "    b = mult_list[n][1]\n",
    "    \n",
    "    return \"[ {0:s} * {1:s} = {2:s} ]\".format(int_string(a), int_string(b), int_string(a*b))"
   ]
  },
  {
   "cell_type": "code",
   "execution_count": 149,
   "metadata": {
    "collapsed": false
   },
   "outputs": [],
   "source": [
    "def create_factor_files(factor_list) :\n",
    "    TRAIN_PATH = PATH + \"train/\"\n",
    "    TEST_PATH = PATH + \"test/\"\n",
    "    \n",
    "\n",
    "    max_train_only_idx = int(len(factor_list) * 6 / 10)\n",
    "    path = TRAIN_PATH\n",
    "    for i in range(max_train_only_idx) :\n",
    "        filename = \"{0:d}.txt\".format(i)\n",
    "        file = open(\"{0:s}{1:s}\".format(path, filename), 'w+')\n",
    "        file.write(factor_string(i, factor_list))\n",
    "        file.close()\n",
    "        \n",
    "    for i in range(max_train_only_idx, len(factor_list)) :\n",
    "        if (randint(0,2) < 1) :\n",
    "            path = TRAIN_PATH\n",
    "        else :\n",
    "            path = TEST_PATH\n",
    "        filename = \"{0:d}.txt\".format(i)\n",
    "        file = open(\"{0:s}{1:s}\".format(path, filename), 'w+')\n",
    "        file.write(factor_string(i, factor_list))\n",
    "        file.close()\n",
    "            \n",
    "            "
   ]
  },
  {
   "cell_type": "markdown",
   "metadata": {},
   "source": [
    "## Test"
   ]
  },
  {
   "cell_type": "code",
   "execution_count": 125,
   "metadata": {
    "collapsed": false
   },
   "outputs": [
    {
     "data": {
      "text/plain": [
       "'( 1 2 3 4 )'"
      ]
     },
     "execution_count": 125,
     "metadata": {},
     "output_type": "execute_result"
    }
   ],
   "source": [
    "int_string(1234)"
   ]
  },
  {
   "cell_type": "code",
   "execution_count": 126,
   "metadata": {
    "collapsed": false
   },
   "outputs": [
    {
     "data": {
      "text/plain": [
       "'[ ( 1 2 3 4 ) =  ( 2 ) * ( 6 1 7 ) ] '"
      ]
     },
     "execution_count": 126,
     "metadata": {},
     "output_type": "execute_result"
    }
   ],
   "source": [
    "factor_string(1234, factors)"
   ]
  },
  {
   "cell_type": "markdown",
   "metadata": {},
   "source": [
    "## Setup"
   ]
  },
  {
   "cell_type": "code",
   "execution_count": 152,
   "metadata": {
    "collapsed": true
   },
   "outputs": [],
   "source": [
    "PATH = \"data/factors2/\"\n",
    "max_int = 50000"
   ]
  },
  {
   "cell_type": "markdown",
   "metadata": {},
   "source": [
    "## Generate Factors"
   ]
  },
  {
   "cell_type": "code",
   "execution_count": 153,
   "metadata": {
    "collapsed": false
   },
   "outputs": [],
   "source": [
    "factors = []\n",
    "# special case of 0 and 1\n",
    "factors.append([0])\n",
    "factors.append([1])\n",
    "for i in range(2,max_int) :\n",
    "    factors.append(prime_factors(i))"
   ]
  },
  {
   "cell_type": "code",
   "execution_count": null,
   "metadata": {
    "collapsed": false
   },
   "outputs": [],
   "source": [
    "create_factor_files(factors)"
   ]
  },
  {
   "cell_type": "code",
   "execution_count": 116,
   "metadata": {
    "collapsed": false
   },
   "outputs": [
    {
     "data": {
      "text/plain": [
       "'( 5 5 ) '"
      ]
     },
     "execution_count": 116,
     "metadata": {},
     "output_type": "execute_result"
    }
   ],
   "source": [
    "int_string(55)"
   ]
  },
  {
   "cell_type": "code",
   "execution_count": 128,
   "metadata": {
    "collapsed": false
   },
   "outputs": [
    {
     "data": {
      "text/plain": [
       "120000.0"
      ]
     },
     "execution_count": 128,
     "metadata": {},
     "output_type": "execute_result"
    }
   ],
   "source": [
    "len(factors) * 6 / 10"
   ]
  },
  {
   "cell_type": "code",
   "execution_count": null,
   "metadata": {
    "collapsed": true
   },
   "outputs": [],
   "source": [
    "0 1  1 0  2 0  3 0  4 0  5 0\n",
    "0 2  1 1  2 1  3 1  4 1  5 1\n",
    "0 3  1 2  2 2  3 2  4 2  5 2\n",
    "0 4\n",
    "0 5\n"
   ]
  }
 ],
 "metadata": {
  "kernelspec": {
   "display_name": "Python [default]",
   "language": "python",
   "name": "python3"
  },
  "language_info": {
   "codemirror_mode": {
    "name": "ipython",
    "version": 3
   },
   "file_extension": ".py",
   "mimetype": "text/x-python",
   "name": "python",
   "nbconvert_exporter": "python",
   "pygments_lexer": "ipython3",
   "version": "3.5.2"
  }
 },
 "nbformat": 4,
 "nbformat_minor": 1
}
